{
 "cells": [
  {
   "cell_type": "code",
   "execution_count": 4,
   "metadata": {},
   "outputs": [],
   "source": [
    "import torch, torchvision\n",
    "from tqdm import tqdm\n",
    "\n",
    "import torch.nn as nn\n",
    "import torch.nn.functional as F\n",
    "\n",
    "from torchvision import datasets\n",
    "from torchvision.datasets import CIFAR10\n",
    "from torchvision.transforms import transforms\n",
    "from torch.utils.data import DataLoader\n",
    "\n",
    "from torchvision.models import resnet18\n",
    "from torchvision.models import ResNet18_Weights\n",
    "from torch.optim import Adam"
   ]
  },
  {
   "cell_type": "code",
   "execution_count": 84,
   "metadata": {},
   "outputs": [],
   "source": [
    "class TwoCropTransform:\n",
    "    \"\"\"Create two crops of the same image\"\"\"\n",
    "    def __init__(self, transform):\n",
    "        self.transform = transform\n",
    "\n",
    "    def __call__(self, x):\n",
    "        return [self.transform(x), self.transform(x)]\n",
    "\n",
    "mean = (0.4914, 0.4822, 0.4465)\n",
    "std = (0.2023, 0.1994, 0.2010)\n",
    "normalize = transforms.Normalize(mean=mean, std=std)\n",
    "\n",
    "train_transform = transforms.Compose([\n",
    "        transforms.Resize((224,224)),\n",
    "        transforms.RandomApply([\n",
    "            transforms.ColorJitter(0.4, 0.4, 0.4, 0.1)\n",
    "        ], p=0.8),\n",
    "        transforms.RandomGrayscale(p=0.2),\n",
    "        transforms.ToTensor(),\n",
    "        normalize,\n",
    "    ])\n",
    "\n",
    "test_transform = transforms.Compose([\n",
    "        transforms.Resize((224,224)),\n",
    "        transforms.ToTensor(),\n",
    "        normalize,\n",
    "    ])"
   ]
  },
  {
   "cell_type": "code",
   "execution_count": 60,
   "metadata": {},
   "outputs": [],
   "source": [
    "train_data = datasets.ImageFolder(root='Augmented_Data', transform=TwoCropTransform(train_transform))\n",
    "train_loader = torch.utils.data.DataLoader(train_data, batch_size=32, shuffle=True, num_workers=2)"
   ]
  },
  {
   "cell_type": "code",
   "execution_count": 97,
   "metadata": {},
   "outputs": [],
   "source": [
    "test_data = datasets.ImageFolder(root='Augmented_TestData', transform=test_transform)\n",
    "test_loader = torch.utils.data.DataLoader(test_data, batch_size=1, shuffle=False, num_workers=2)"
   ]
  },
  {
   "cell_type": "code",
   "execution_count": 62,
   "metadata": {},
   "outputs": [
    {
     "name": "stdout",
     "output_type": "stream",
     "text": [
      "train data size: 1393\n",
      "test data size: 95\n"
     ]
    }
   ],
   "source": [
    "print('train data size:', len(train_data))\n",
    "print('test data size:', len(test_data))"
   ]
  },
  {
   "cell_type": "code",
   "execution_count": 63,
   "metadata": {},
   "outputs": [],
   "source": [
    "class CNN(nn.Module):\n",
    "    def __init__(self):\n",
    "        super(CNN, self).__init__()\n",
    "        self.resnet = resnet18(pretrained=True)\n",
    "        self.resnet = nn.Sequential(*list(self.resnet.children())[:-1]) \n",
    "        self.fc = nn.Linear(512, 128)\n",
    "\n",
    "    def forward(self, x):\n",
    "        x = self.resnet(x)\n",
    "        x = torch.flatten(x, 1)\n",
    "        x = F.relu(self.fc(x))\n",
    "        x = F.normalize(x, dim=1)\n",
    "        return x"
   ]
  },
  {
   "cell_type": "code",
   "execution_count": 64,
   "metadata": {},
   "outputs": [
    {
     "data": {
      "text/plain": [
       "device(type='cuda')"
      ]
     },
     "execution_count": 64,
     "metadata": {},
     "output_type": "execute_result"
    }
   ],
   "source": [
    "device = torch.device(\"cuda\" if torch.cuda.is_available() else \"cpu\")\n",
    "device"
   ]
  },
  {
   "cell_type": "code",
   "execution_count": 65,
   "metadata": {},
   "outputs": [],
   "source": [
    "class SupConLoss(nn.Module):\n",
    "    \"\"\"Supervised Contrastive Learning: https://arxiv.org/pdf/2004.11362.pdf.\n",
    "    It also supports the unsupervised contrastive loss in SimCLR\"\"\"\n",
    "    def __init__(self, temperature=0.07, contrast_mode='all',\n",
    "                 base_temperature=0.07):\n",
    "        super(SupConLoss, self).__init__()\n",
    "        self.temperature = temperature\n",
    "        self.contrast_mode = contrast_mode\n",
    "        self.base_temperature = base_temperature\n",
    "\n",
    "    def forward(self, features, labels=None, mask=None):\n",
    "        \"\"\"Compute loss for model. If both `labels` and `mask` are None,\n",
    "        it degenerates to SimCLR unsupervised loss:\n",
    "        https://arxiv.org/pdf/2002.05709.pdf\n",
    "\n",
    "        Args:\n",
    "            features: hidden vector of shape [bsz, n_views, ...].\n",
    "            labels: ground truth of shape [bsz].\n",
    "            mask: contrastive mask of shape [bsz, bsz], mask_{i,j}=1 if sample j\n",
    "                has the same class as sample i. Can be asymmetric.\n",
    "        Returns:\n",
    "            A loss scalar.\n",
    "        \"\"\"\n",
    "        device = (torch.device('cuda')\n",
    "                  if features.is_cuda\n",
    "                  else torch.device('cpu'))\n",
    "\n",
    "        if len(features.shape) < 3:\n",
    "            raise ValueError('`features` needs to be [bsz, n_views, ...],'\n",
    "                             'at least 3 dimensions are required')\n",
    "        if len(features.shape) > 3:\n",
    "            features = features.view(features.shape[0], features.shape[1], -1)\n",
    "\n",
    "        batch_size = features.shape[0]\n",
    "        if labels is not None and mask is not None:\n",
    "            raise ValueError('Cannot define both `labels` and `mask`')\n",
    "        elif labels is None and mask is None:\n",
    "            mask = torch.eye(batch_size, dtype=torch.float32).to(device)\n",
    "        elif labels is not None:\n",
    "            labels = labels.contiguous().view(-1, 1) \n",
    "            if labels.shape[0] != batch_size:                                                         \n",
    "                raise ValueError('Num of labels does not match num of features')                                                         \n",
    "            mask = torch.eq(labels, labels.T).float().to(device)                                                         \n",
    "        else:                                                         \n",
    "            mask = mask.float().to(device)                                                         \n",
    "\n",
    "        contrast_count = features.shape[1]                                                         \n",
    "        contrast_feature = torch.cat(torch.unbind(features, dim=1), dim=0)                                                         \n",
    "        if self.contrast_mode == 'one':                                                         \n",
    "            anchor_feature = features[:, 0]                                                         \n",
    "            anchor_count = 1                                                         \n",
    "        elif self.contrast_mode == 'all':                                                         \n",
    "            anchor_feature = contrast_feature                                                         \n",
    "            anchor_count = contrast_count                                                         \n",
    "        else:                                                         \n",
    "            raise ValueError('Unknown mode: {}'.format(self.contrast_mode))                                                         \n",
    "\n",
    "        # compute logits                                                         \n",
    "        anchor_dot_contrast = torch.div(                                                         \n",
    "            torch.matmul(anchor_feature, contrast_feature.T),                                                         \n",
    "            self.temperature)                                                         \n",
    "        # for numerical stability                                                         \n",
    "        logits_max, _ = torch.max(anchor_dot_contrast, dim=1, keepdim=True)                                                         \n",
    "        logits = anchor_dot_contrast - logits_max.detach()                                                         \n",
    "\n",
    "        # tile mask                                                         \n",
    "        mask = mask.repeat(anchor_count, contrast_count)                                                         \n",
    "        # mask-out self-contrast cases                                                         \n",
    "        logits_mask = torch.scatter(                                                         \n",
    "            torch.ones_like(mask),                                                         \n",
    "            1,\n",
    "            torch.arange(batch_size * anchor_count).view(-1, 1).to(device),\n",
    "            0\n",
    "        )\n",
    "        mask = mask * logits_mask\n",
    "\n",
    "        # compute log_prob\n",
    "        exp_logits = torch.exp(logits) * logits_mask\n",
    "        log_prob = logits - torch.log(exp_logits.sum(1, keepdim=True))\n",
    "\n",
    "        # compute mean of log-likelihood over positive\n",
    "        # modified to handle edge cases when there is no positive pair\n",
    "        # for an anchor point. \n",
    "        # Edge case e.g.:- \n",
    "        # features of shape: [4,1,...]\n",
    "        # labels:            [0,1,1,2]\n",
    "        # loss before mean:  [nan, ..., ..., nan] \n",
    "        mask_pos_pairs = mask.sum(1)\n",
    "        mask_pos_pairs = torch.where(mask_pos_pairs < 1e-6, 1, mask_pos_pairs)\n",
    "        mean_log_prob_pos = (mask * log_prob).sum(1) / mask_pos_pairs\n",
    "\n",
    "        # loss\n",
    "        loss = - (self.temperature / self.base_temperature) * mean_log_prob_pos\n",
    "        loss = loss.view(anchor_count, batch_size).mean()\n",
    "\n",
    "        return loss"
   ]
  },
  {
   "cell_type": "code",
   "execution_count": 66,
   "metadata": {},
   "outputs": [
    {
     "name": "stderr",
     "output_type": "stream",
     "text": [
      "/home/bolt17/miniconda3/envs/imgcap/lib/python3.10/site-packages/torchvision/models/_utils.py:208: UserWarning: The parameter 'pretrained' is deprecated since 0.13 and may be removed in the future, please use 'weights' instead.\n",
      "  warnings.warn(\n",
      "/home/bolt17/miniconda3/envs/imgcap/lib/python3.10/site-packages/torchvision/models/_utils.py:223: UserWarning: Arguments other than a weight enum or `None` for 'weights' are deprecated since 0.13 and may be removed in the future. The current behavior is equivalent to passing `weights=ResNet18_Weights.IMAGENET1K_V1`. You can also use `weights=ResNet18_Weights.DEFAULT` to get the most up-to-date weights.\n",
      "  warnings.warn(msg)\n"
     ]
    }
   ],
   "source": [
    "model = CNN().to(device)"
   ]
  },
  {
   "cell_type": "code",
   "execution_count": 67,
   "metadata": {},
   "outputs": [],
   "source": [
    "opt = torch.optim.SGD(params=model.parameters(), lr=0.01, weight_decay=0.0005)\n",
    "from torch.optim.lr_scheduler import StepLR\n",
    "temp = 0.1\n",
    "criterion_cont = SupConLoss(temperature=temp)\n",
    "scheduler = StepLR(opt, step_size=30, gamma=0.1)"
   ]
  },
  {
   "cell_type": "code",
   "execution_count": null,
   "metadata": {},
   "outputs": [
    {
     "name": "stderr",
     "output_type": "stream",
     "text": [
      "100%|██████████| 44/44 [00:59<00:00,  1.34s/it]\n"
     ]
    },
    {
     "name": "stdout",
     "output_type": "stream",
     "text": [
      "Epoch [1/25], loss - [3.5128049850463867]\n"
     ]
    },
    {
     "name": "stderr",
     "output_type": "stream",
     "text": [
      "100%|██████████| 44/44 [00:58<00:00,  1.32s/it]\n"
     ]
    },
    {
     "name": "stdout",
     "output_type": "stream",
     "text": [
      "Epoch [2/25], loss - [2.5321221351623535]\n"
     ]
    },
    {
     "name": "stderr",
     "output_type": "stream",
     "text": [
      "100%|██████████| 44/44 [00:58<00:00,  1.34s/it]\n"
     ]
    },
    {
     "name": "stdout",
     "output_type": "stream",
     "text": [
      "Epoch [3/25], loss - [2.2407631874084473]\n"
     ]
    },
    {
     "name": "stderr",
     "output_type": "stream",
     "text": [
      "100%|██████████| 44/44 [00:56<00:00,  1.28s/it]\n"
     ]
    },
    {
     "name": "stdout",
     "output_type": "stream",
     "text": [
      "Epoch [4/25], loss - [2.062028646469116]\n"
     ]
    },
    {
     "name": "stderr",
     "output_type": "stream",
     "text": [
      "100%|██████████| 44/44 [00:58<00:00,  1.34s/it]\n"
     ]
    },
    {
     "name": "stdout",
     "output_type": "stream",
     "text": [
      "Epoch [5/25], loss - [2.001171588897705]\n"
     ]
    },
    {
     "name": "stderr",
     "output_type": "stream",
     "text": [
      "100%|██████████| 44/44 [00:59<00:00,  1.36s/it]\n"
     ]
    },
    {
     "name": "stdout",
     "output_type": "stream",
     "text": [
      "Epoch [6/25], loss - [1.926790475845337]\n"
     ]
    },
    {
     "name": "stderr",
     "output_type": "stream",
     "text": [
      "100%|██████████| 44/44 [00:58<00:00,  1.33s/it]\n"
     ]
    },
    {
     "name": "stdout",
     "output_type": "stream",
     "text": [
      "Epoch [7/25], loss - [1.9286025762557983]\n"
     ]
    },
    {
     "name": "stderr",
     "output_type": "stream",
     "text": [
      "100%|██████████| 44/44 [00:57<00:00,  1.31s/it]\n"
     ]
    },
    {
     "name": "stdout",
     "output_type": "stream",
     "text": [
      "Epoch [8/25], loss - [1.8966245651245117]\n"
     ]
    },
    {
     "name": "stderr",
     "output_type": "stream",
     "text": [
      "100%|██████████| 44/44 [00:58<00:00,  1.33s/it]\n"
     ]
    },
    {
     "name": "stdout",
     "output_type": "stream",
     "text": [
      "Epoch [9/25], loss - [1.8757929801940918]\n"
     ]
    },
    {
     "name": "stderr",
     "output_type": "stream",
     "text": [
      "100%|██████████| 44/44 [00:58<00:00,  1.33s/it]\n"
     ]
    },
    {
     "name": "stdout",
     "output_type": "stream",
     "text": [
      "Epoch [10/25], loss - [1.8318790197372437]\n"
     ]
    },
    {
     "name": "stderr",
     "output_type": "stream",
     "text": [
      "100%|██████████| 44/44 [00:59<00:00,  1.36s/it]\n"
     ]
    },
    {
     "name": "stdout",
     "output_type": "stream",
     "text": [
      "Epoch [11/25], loss - [1.8129425048828125]\n"
     ]
    },
    {
     "name": "stderr",
     "output_type": "stream",
     "text": [
      "100%|██████████| 44/44 [00:59<00:00,  1.35s/it]\n"
     ]
    },
    {
     "name": "stdout",
     "output_type": "stream",
     "text": [
      "Epoch [12/25], loss - [1.8004274368286133]\n"
     ]
    },
    {
     "name": "stderr",
     "output_type": "stream",
     "text": [
      "100%|██████████| 44/44 [00:57<00:00,  1.31s/it]\n"
     ]
    },
    {
     "name": "stdout",
     "output_type": "stream",
     "text": [
      "Epoch [13/25], loss - [1.8835269212722778]\n"
     ]
    },
    {
     "name": "stderr",
     "output_type": "stream",
     "text": [
      "100%|██████████| 44/44 [00:58<00:00,  1.32s/it]\n"
     ]
    },
    {
     "name": "stdout",
     "output_type": "stream",
     "text": [
      "Epoch [14/25], loss - [1.7890880107879639]\n"
     ]
    },
    {
     "name": "stderr",
     "output_type": "stream",
     "text": [
      "100%|██████████| 44/44 [00:59<00:00,  1.34s/it]\n"
     ]
    },
    {
     "name": "stdout",
     "output_type": "stream",
     "text": [
      "Epoch [15/25], loss - [1.7820624113082886]\n"
     ]
    },
    {
     "name": "stderr",
     "output_type": "stream",
     "text": [
      "100%|██████████| 44/44 [00:58<00:00,  1.33s/it]\n"
     ]
    },
    {
     "name": "stdout",
     "output_type": "stream",
     "text": [
      "Epoch [16/25], loss - [1.7948856353759766]\n"
     ]
    },
    {
     "name": "stderr",
     "output_type": "stream",
     "text": [
      "100%|██████████| 44/44 [00:57<00:00,  1.31s/it]\n"
     ]
    },
    {
     "name": "stdout",
     "output_type": "stream",
     "text": [
      "Epoch [17/25], loss - [1.7944529056549072]\n"
     ]
    },
    {
     "name": "stderr",
     "output_type": "stream",
     "text": [
      "100%|██████████| 44/44 [00:59<00:00,  1.35s/it]\n"
     ]
    },
    {
     "name": "stdout",
     "output_type": "stream",
     "text": [
      "Epoch [18/25], loss - [1.780315637588501]\n"
     ]
    },
    {
     "name": "stderr",
     "output_type": "stream",
     "text": [
      "100%|██████████| 44/44 [00:59<00:00,  1.36s/it]\n"
     ]
    },
    {
     "name": "stdout",
     "output_type": "stream",
     "text": [
      "Epoch [19/25], loss - [1.7896006107330322]\n"
     ]
    },
    {
     "name": "stderr",
     "output_type": "stream",
     "text": [
      "100%|██████████| 44/44 [01:00<00:00,  1.38s/it]\n"
     ]
    },
    {
     "name": "stdout",
     "output_type": "stream",
     "text": [
      "Epoch [20/25], loss - [1.8055362701416016]\n"
     ]
    },
    {
     "name": "stderr",
     "output_type": "stream",
     "text": [
      "100%|██████████| 44/44 [00:58<00:00,  1.33s/it]\n"
     ]
    },
    {
     "name": "stdout",
     "output_type": "stream",
     "text": [
      "Epoch [21/25], loss - [1.8079005479812622]\n"
     ]
    },
    {
     "name": "stderr",
     "output_type": "stream",
     "text": [
      "100%|██████████| 44/44 [01:01<00:00,  1.39s/it]\n"
     ]
    },
    {
     "name": "stdout",
     "output_type": "stream",
     "text": [
      "Epoch [22/25], loss - [1.7767353057861328]\n"
     ]
    },
    {
     "name": "stderr",
     "output_type": "stream",
     "text": [
      "100%|██████████| 44/44 [01:00<00:00,  1.38s/it]\n"
     ]
    },
    {
     "name": "stdout",
     "output_type": "stream",
     "text": [
      "Epoch [23/25], loss - [1.8152018785476685]\n"
     ]
    },
    {
     "name": "stderr",
     "output_type": "stream",
     "text": [
      "100%|██████████| 44/44 [01:00<00:00,  1.37s/it]\n"
     ]
    },
    {
     "name": "stdout",
     "output_type": "stream",
     "text": [
      "Epoch [24/25], loss - [1.7602527141571045]\n"
     ]
    },
    {
     "name": "stderr",
     "output_type": "stream",
     "text": [
      "100%|██████████| 44/44 [01:00<00:00,  1.36s/it]\n"
     ]
    },
    {
     "name": "stdout",
     "output_type": "stream",
     "text": [
      "Epoch [25/25], loss - [1.8019587993621826]\n"
     ]
    },
    {
     "ename": "RuntimeError",
     "evalue": "Parent directory ./paper does not exist.",
     "output_type": "error",
     "traceback": [
      "\u001b[0;31m---------------------------------------------------------------------------\u001b[0m",
      "\u001b[0;31mRuntimeError\u001b[0m                              Traceback (most recent call last)",
      "Cell \u001b[0;32mIn[68], line 33\u001b[0m\n\u001b[1;32m     31\u001b[0m     \u001b[38;5;28mprint\u001b[39m(\u001b[38;5;124mf\u001b[39m\u001b[38;5;124m'\u001b[39m\u001b[38;5;124mEpoch [\u001b[39m\u001b[38;5;132;01m{\u001b[39;00mepoch\u001b[38;5;250m \u001b[39m\u001b[38;5;241m+\u001b[39m\u001b[38;5;250m \u001b[39m\u001b[38;5;241m1\u001b[39m\u001b[38;5;132;01m}\u001b[39;00m\u001b[38;5;124m/\u001b[39m\u001b[38;5;132;01m{\u001b[39;00mepochs\u001b[38;5;132;01m}\u001b[39;00m\u001b[38;5;124m], loss - [\u001b[39m\u001b[38;5;132;01m{\u001b[39;00mavg_train_loss\u001b[38;5;132;01m}\u001b[39;00m\u001b[38;5;124m]\u001b[39m\u001b[38;5;124m'\u001b[39m)\n\u001b[1;32m     32\u001b[0m     scheduler\u001b[38;5;241m.\u001b[39mstep()\n\u001b[0;32m---> 33\u001b[0m \u001b[43mtorch\u001b[49m\u001b[38;5;241;43m.\u001b[39;49m\u001b[43msave\u001b[49m\u001b[43m(\u001b[49m\u001b[43mmodel\u001b[49m\u001b[43m,\u001b[49m\u001b[38;5;124;43m\"\u001b[39;49m\u001b[38;5;124;43m./paper/feature_encoder.pth\u001b[39;49m\u001b[38;5;124;43m\"\u001b[39;49m\u001b[43m)\u001b[49m\n",
      "File \u001b[0;32m~/miniconda3/envs/imgcap/lib/python3.10/site-packages/torch/serialization.py:849\u001b[0m, in \u001b[0;36msave\u001b[0;34m(obj, f, pickle_module, pickle_protocol, _use_new_zipfile_serialization, _disable_byteorder_record)\u001b[0m\n\u001b[1;32m    846\u001b[0m _check_save_filelike(f)\n\u001b[1;32m    848\u001b[0m \u001b[38;5;28;01mif\u001b[39;00m _use_new_zipfile_serialization:\n\u001b[0;32m--> 849\u001b[0m     \u001b[38;5;28;01mwith\u001b[39;00m \u001b[43m_open_zipfile_writer\u001b[49m\u001b[43m(\u001b[49m\u001b[43mf\u001b[49m\u001b[43m)\u001b[49m \u001b[38;5;28;01mas\u001b[39;00m opened_zipfile:\n\u001b[1;32m    850\u001b[0m         _save(\n\u001b[1;32m    851\u001b[0m             obj,\n\u001b[1;32m    852\u001b[0m             opened_zipfile,\n\u001b[0;32m   (...)\u001b[0m\n\u001b[1;32m    855\u001b[0m             _disable_byteorder_record,\n\u001b[1;32m    856\u001b[0m         )\n\u001b[1;32m    857\u001b[0m         \u001b[38;5;28;01mreturn\u001b[39;00m\n",
      "File \u001b[0;32m~/miniconda3/envs/imgcap/lib/python3.10/site-packages/torch/serialization.py:716\u001b[0m, in \u001b[0;36m_open_zipfile_writer\u001b[0;34m(name_or_buffer)\u001b[0m\n\u001b[1;32m    714\u001b[0m \u001b[38;5;28;01melse\u001b[39;00m:\n\u001b[1;32m    715\u001b[0m     container \u001b[38;5;241m=\u001b[39m _open_zipfile_writer_buffer\n\u001b[0;32m--> 716\u001b[0m \u001b[38;5;28;01mreturn\u001b[39;00m \u001b[43mcontainer\u001b[49m\u001b[43m(\u001b[49m\u001b[43mname_or_buffer\u001b[49m\u001b[43m)\u001b[49m\n",
      "File \u001b[0;32m~/miniconda3/envs/imgcap/lib/python3.10/site-packages/torch/serialization.py:687\u001b[0m, in \u001b[0;36m_open_zipfile_writer_file.__init__\u001b[0;34m(self, name)\u001b[0m\n\u001b[1;32m    685\u001b[0m     \u001b[38;5;28msuper\u001b[39m()\u001b[38;5;241m.\u001b[39m\u001b[38;5;21m__init__\u001b[39m(torch\u001b[38;5;241m.\u001b[39m_C\u001b[38;5;241m.\u001b[39mPyTorchFileWriter(\u001b[38;5;28mself\u001b[39m\u001b[38;5;241m.\u001b[39mfile_stream))\n\u001b[1;32m    686\u001b[0m \u001b[38;5;28;01melse\u001b[39;00m:\n\u001b[0;32m--> 687\u001b[0m     \u001b[38;5;28msuper\u001b[39m()\u001b[38;5;241m.\u001b[39m\u001b[38;5;21m__init__\u001b[39m(\u001b[43mtorch\u001b[49m\u001b[38;5;241;43m.\u001b[39;49m\u001b[43m_C\u001b[49m\u001b[38;5;241;43m.\u001b[39;49m\u001b[43mPyTorchFileWriter\u001b[49m\u001b[43m(\u001b[49m\u001b[38;5;28;43mself\u001b[39;49m\u001b[38;5;241;43m.\u001b[39;49m\u001b[43mname\u001b[49m\u001b[43m)\u001b[49m)\n",
      "\u001b[0;31mRuntimeError\u001b[0m: Parent directory ./paper does not exist."
     ]
    }
   ],
   "source": [
    "epochs = 25\n",
    "best_train_loss = float('inf')\n",
    "counter = 0\n",
    "bestmodel = None\n",
    "\n",
    "for epoch in range(epochs):\n",
    "    model.train()\n",
    "    tr_loss=0\n",
    "    total_train=0\n",
    "    correct_train=0\n",
    "    \n",
    "    for i, (inputs, labels) in enumerate(tqdm(train_loader)):\n",
    "        inputs = torch.cat([inputs[0], inputs[1]], dim=0)\n",
    "        if torch.cuda.is_available():\n",
    "            inputs = inputs.cuda(non_blocking=True)\n",
    "            labels = labels.cuda(non_blocking=True)\n",
    "        bsz = labels.shape[0]\n",
    "        \n",
    "        outputs = model(inputs)\n",
    "        f1, f2 = torch.split(outputs, [bsz, bsz], dim=0)\n",
    "        outputs = torch.cat([f1.unsqueeze(1), f2.unsqueeze(1)], dim=1)\n",
    "        loss = criterion_cont(outputs, labels)\n",
    "        tr_loss+=loss\n",
    "        \n",
    "        opt.zero_grad()\n",
    "        loss.backward()\n",
    "        opt.step()\n",
    "        \n",
    "    avg_train_loss = tr_loss / len(train_loader)\n",
    "\n",
    "    print(f'Epoch [{epoch + 1}/{epochs}], loss - [{avg_train_loss}]')\n",
    "    scheduler.step()"
   ]
  },
  {
   "cell_type": "code",
   "execution_count": 95,
   "metadata": {},
   "outputs": [],
   "source": [
    "model_save_path = \"model_weights.pth\"\n",
    "\n",
    "# Save the model's state_dict (parameters)\n",
    "torch.save(model.state_dict(), model_save_path)"
   ]
  },
  {
   "cell_type": "code",
   "execution_count": 92,
   "metadata": {},
   "outputs": [
    {
     "name": "stderr",
     "output_type": "stream",
     "text": [
      "/tmp/ipykernel_2447999/3969803457.py:1: FutureWarning: You are using `torch.load` with `weights_only=False` (the current default value), which uses the default pickle module implicitly. It is possible to construct malicious pickle data which will execute arbitrary code during unpickling (See https://github.com/pytorch/pytorch/blob/main/SECURITY.md#untrusted-models for more details). In a future release, the default value for `weights_only` will be flipped to `True`. This limits the functions that could be executed during unpickling. Arbitrary objects will no longer be allowed to be loaded via this mode unless they are explicitly allowlisted by the user via `torch.serialization.add_safe_globals`. We recommend you start setting `weights_only=True` for any use case where you don't have full control of the loaded file. Please open an issue on GitHub for any issues related to this experimental feature.\n",
      "  model1=torch.load('contrastive_25epochs.pth').to(device)\n"
     ]
    }
   ],
   "source": [
    "model1=torch.load('contrastive_25epochs.pth').to(device)"
   ]
  },
  {
   "cell_type": "code",
   "execution_count": 70,
   "metadata": {},
   "outputs": [],
   "source": [
    "import numpy as np\n",
    "def extract_final_outputs(model, dataloader, device):\n",
    "    outputs = []\n",
    "    labels = []\n",
    "\n",
    "    model.eval()  # Set the model to evaluation mode\n",
    "    with torch.no_grad():\n",
    "        for i, (inputs, label) in enumerate(tqdm(train_loader)):\n",
    "            inputs = torch.cat([inputs[0], inputs[1]], dim=0)\n",
    "            # print(inputs.shape)\n",
    "            if torch.cuda.is_available():\n",
    "                inputs = inputs.cuda(non_blocking=True)\n",
    "                label = label.cuda(non_blocking=True)\n",
    "            bsz = label.shape[0]\n",
    "            \n",
    "            output = model(inputs)\n",
    "            f1, f2 = torch.split(output, [bsz, bsz], dim=0)\n",
    "            # Append the softmax probabilities and labels\n",
    "            outputs.append(f1.cpu().numpy())\n",
    "            labels.append(label.cpu().numpy())\n",
    "\n",
    "    outputs = np.concatenate(outputs, axis=0)  # Concatenate all batches\n",
    "    labels = np.concatenate(labels, axis=0)   # Concatenate all labels\n",
    "    print(outputs.shape, labels.shape)\n",
    "\n",
    "    return outputs, labels"
   ]
  },
  {
   "cell_type": "code",
   "execution_count": 71,
   "metadata": {},
   "outputs": [
    {
     "name": "stderr",
     "output_type": "stream",
     "text": [
      "100%|██████████| 44/44 [00:56<00:00,  1.29s/it]"
     ]
    },
    {
     "name": "stdout",
     "output_type": "stream",
     "text": [
      "(1393, 128) (1393,)\n"
     ]
    },
    {
     "name": "stderr",
     "output_type": "stream",
     "text": [
      "\n"
     ]
    }
   ],
   "source": [
    "import numpy as np\n",
    "import matplotlib.pyplot as plt\n",
    "from sklearn.manifold import TSNE\n",
    "from sklearn.decomposition import PCA\n",
    "\n",
    "final_outputs, labels = extract_final_outputs(model, train_loader, device)"
   ]
  },
  {
   "cell_type": "code",
   "execution_count": 72,
   "metadata": {},
   "outputs": [],
   "source": [
    "tsne = TSNE(n_components=2, random_state=42)\n",
    "reduced_outputs = tsne.fit_transform(final_outputs)"
   ]
  },
  {
   "cell_type": "code",
   "execution_count": 73,
   "metadata": {},
   "outputs": [
    {
     "name": "stderr",
     "output_type": "stream",
     "text": [
      "/tmp/ipykernel_2447999/2865987627.py:5: MatplotlibDeprecationWarning: The get_cmap function was deprecated in Matplotlib 3.7 and will be removed in 3.11. Use ``matplotlib.colormaps[name]`` or ``matplotlib.colormaps.get_cmap()`` or ``pyplot.get_cmap()`` instead.\n",
      "  cmap = plt.cm.get_cmap('tab20', 19)  # 'tab20' colormap with 20 distinct colors\n"
     ]
    },
    {
     "data": {
      "image/png": "[encoded data removed]",
      "text/plain": [
       "<Figure size 1500x800 with 2 Axes>"
      ]
     },
     "metadata": {},
     "output_type": "display_data"
    }
   ],
   "source": [
    "import matplotlib.pyplot as plt\n",
    "import numpy as np\n",
    "\n",
    "# Replace 'tab10' with 'tab20' to get more distinct colors\n",
    "cmap = plt.cm.get_cmap('tab20', 19)  # 'tab20' colormap with 20 distinct colors\n",
    "\n",
    "# Increase figure size for better spacing\n",
    "plt.figure(figsize=(15, 8))\n",
    "scatter = plt.scatter(reduced_outputs[:, 0], reduced_outputs[:, 1], c=labels, cmap=cmap, s=50)\n",
    "\n",
    "# Add a colorbar with a label for class labels\n",
    "cbar = plt.colorbar(scatter, label=\"Class Label\")\n",
    "\n",
    "# Title and axis labels\n",
    "plt.title('2D Visualization of Model Outputs (Before Softmax)', fontsize=14)\n",
    "plt.xlabel('t-SNE Component 1', fontsize=12)\n",
    "plt.ylabel('t-SNE Component 2', fontsize=12)\n",
    "\n",
    "# Generate legend for all 19 classes\n",
    "for i in range(19):\n",
    "    plt.scatter([], [], c=[cmap(i)], label=f'Class {i}')  # Empty scatter points for legend\n",
    "\n",
    "# Adjust legend and move it outside the plot area\n",
    "plt.legend(title='Class Labels', bbox_to_anchor=(1.15, 0.5), loc='center left', fontsize=10, title_fontsize=12)\n",
    "\n",
    "# Adjust layout to prevent overlapping\n",
    "plt.tight_layout(rect=[0, 0, 0.85, 1])  # Shrink the plot to leave space for the legend\n",
    "plt.show()\n"
   ]
  },
  {
   "cell_type": "code",
   "execution_count": 109,
   "metadata": {},
   "outputs": [
    {
     "name": "stdout",
     "output_type": "stream",
     "text": [
      "Model weights loaded successfully.\n"
     ]
    },
    {
     "name": "stderr",
     "output_type": "stream",
     "text": [
      "/home/bolt17/miniconda3/envs/imgcap/lib/python3.10/site-packages/torchvision/models/_utils.py:208: UserWarning: The parameter 'pretrained' is deprecated since 0.13 and may be removed in the future, please use 'weights' instead.\n",
      "  warnings.warn(\n",
      "/home/bolt17/miniconda3/envs/imgcap/lib/python3.10/site-packages/torchvision/models/_utils.py:223: UserWarning: Arguments other than a weight enum or `None` for 'weights' are deprecated since 0.13 and may be removed in the future. The current behavior is equivalent to passing `weights=ResNet18_Weights.IMAGENET1K_V1`. You can also use `weights=ResNet18_Weights.DEFAULT` to get the most up-to-date weights.\n",
      "  warnings.warn(msg)\n",
      "/tmp/ipykernel_2447999/1817156775.py:3: FutureWarning: You are using `torch.load` with `weights_only=False` (the current default value), which uses the default pickle module implicitly. It is possible to construct malicious pickle data which will execute arbitrary code during unpickling (See https://github.com/pytorch/pytorch/blob/main/SECURITY.md#untrusted-models for more details). In a future release, the default value for `weights_only` will be flipped to `True`. This limits the functions that could be executed during unpickling. Arbitrary objects will no longer be allowed to be loaded via this mode unless they are explicitly allowlisted by the user via `torch.serialization.add_safe_globals`. We recommend you start setting `weights_only=True` for any use case where you don't have full control of the loaded file. Please open an issue on GitHub for any issues related to this experimental feature.\n",
      "  model.load_state_dict(torch.load(model_save_path))\n"
     ]
    }
   ],
   "source": [
    "model = CNN().to(device)\n",
    "model_save_path = \"model_weights.pth\"\n",
    "model.load_state_dict(torch.load(model_save_path))\n",
    "model = model.to(device)\n",
    "# Make sure to set the model to evaluation mode if you're testing\n",
    "model.eval()\n",
    "\n",
    "print(\"Model weights loaded successfully.\")\n"
   ]
  },
  {
   "cell_type": "code",
   "execution_count": 110,
   "metadata": {},
   "outputs": [
    {
     "name": "stdout",
     "output_type": "stream",
     "text": [
      "Mean embedding for class 0: [0.0000000e+00 0.0000000e+00 0.0000000e+00 0.0000000e+00 3.1216571e-01\n",
      " 0.0000000e+00 5.4668140e-01 0.0000000e+00 0.0000000e+00 0.0000000e+00\n",
      " 4.7553287e-04 0.0000000e+00 0.0000000e+00 0.0000000e+00 2.3897511e-01\n",
      " 0.0000000e+00 0.0000000e+00 0.0000000e+00 0.0000000e+00 0.0000000e+00\n",
      " 0.0000000e+00 0.0000000e+00 0.0000000e+00 0.0000000e+00 0.0000000e+00\n",
      " 0.0000000e+00 0.0000000e+00 1.9086149e-03 2.7208449e-02 0.0000000e+00\n",
      " 1.8179900e-03 0.0000000e+00 9.8792929e-04 0.0000000e+00 0.0000000e+00\n",
      " 0.0000000e+00 0.0000000e+00 0.0000000e+00 0.0000000e+00 1.2158731e-03\n",
      " 5.0221652e-01 0.0000000e+00 4.9237895e-04 0.0000000e+00 0.0000000e+00\n",
      " 0.0000000e+00 0.0000000e+00 0.0000000e+00 0.0000000e+00 0.0000000e+00\n",
      " 0.0000000e+00 1.8587150e-03 0.0000000e+00 0.0000000e+00 5.0963013e-04\n",
      " 0.0000000e+00 0.0000000e+00 0.0000000e+00 0.0000000e+00 0.0000000e+00\n",
      " 0.0000000e+00 0.0000000e+00 0.0000000e+00 0.0000000e+00 0.0000000e+00\n",
      " 0.0000000e+00 0.0000000e+00 1.6572789e-03 0.0000000e+00 0.0000000e+00\n",
      " 3.8226157e-01 0.0000000e+00 0.0000000e+00 0.0000000e+00 0.0000000e+00\n",
      " 0.0000000e+00 0.0000000e+00 0.0000000e+00 0.0000000e+00 5.6174458e-03\n",
      " 2.5479123e-03 0.0000000e+00 0.0000000e+00 0.0000000e+00 0.0000000e+00\n",
      " 0.0000000e+00 0.0000000e+00 0.0000000e+00 0.0000000e+00 0.0000000e+00\n",
      " 0.0000000e+00 0.0000000e+00 0.0000000e+00 0.0000000e+00 0.0000000e+00\n",
      " 0.0000000e+00 0.0000000e+00 0.0000000e+00 0.0000000e+00 2.2441810e-03\n",
      " 0.0000000e+00 3.0179486e-01 0.0000000e+00 0.0000000e+00 3.7312921e-04\n",
      " 0.0000000e+00 0.0000000e+00 0.0000000e+00 0.0000000e+00 3.6345509e-06\n",
      " 0.0000000e+00 0.0000000e+00 0.0000000e+00 0.0000000e+00 0.0000000e+00\n",
      " 0.0000000e+00 0.0000000e+00 0.0000000e+00 0.0000000e+00 0.0000000e+00\n",
      " 2.1742000e-01 0.0000000e+00 0.0000000e+00 0.0000000e+00 0.0000000e+00\n",
      " 4.0770746e-03 0.0000000e+00 0.0000000e+00]\n",
      "Mean embedding for class 1: [0.00000000e+00 0.00000000e+00 0.00000000e+00 1.10955117e-03\n",
      " 4.07818751e-03 1.35769648e-03 0.00000000e+00 0.00000000e+00\n",
      " 0.00000000e+00 0.00000000e+00 7.30775238e-04 0.00000000e+00\n",
      " 4.54503950e-03 0.00000000e+00 6.12969627e-04 5.42229041e-04\n",
      " 0.00000000e+00 0.00000000e+00 0.00000000e+00 0.00000000e+00\n",
      " 5.68414479e-02 0.00000000e+00 0.00000000e+00 0.00000000e+00\n",
      " 0.00000000e+00 0.00000000e+00 0.00000000e+00 0.00000000e+00\n",
      " 0.00000000e+00 1.01202430e-04 0.00000000e+00 0.00000000e+00\n",
      " 0.00000000e+00 2.90519022e-03 0.00000000e+00 0.00000000e+00\n",
      " 2.85588147e-04 5.30113697e-01 0.00000000e+00 0.00000000e+00\n",
      " 0.00000000e+00 0.00000000e+00 0.00000000e+00 0.00000000e+00\n",
      " 3.24396940e-04 0.00000000e+00 0.00000000e+00 0.00000000e+00\n",
      " 0.00000000e+00 6.36291923e-04 0.00000000e+00 0.00000000e+00\n",
      " 5.83623711e-04 4.28450823e-01 0.00000000e+00 5.57885563e-04\n",
      " 0.00000000e+00 0.00000000e+00 0.00000000e+00 0.00000000e+00\n",
      " 0.00000000e+00 0.00000000e+00 0.00000000e+00 0.00000000e+00\n",
      " 0.00000000e+00 0.00000000e+00 4.63341130e-05 0.00000000e+00\n",
      " 0.00000000e+00 0.00000000e+00 0.00000000e+00 0.00000000e+00\n",
      " 5.90329773e-06 4.96771872e-01 0.00000000e+00 0.00000000e+00\n",
      " 0.00000000e+00 0.00000000e+00 0.00000000e+00 1.86838408e-03\n",
      " 0.00000000e+00 5.22578001e-01 0.00000000e+00 0.00000000e+00\n",
      " 1.02034747e-03 0.00000000e+00 1.76819088e-03 3.18924077e-02\n",
      " 0.00000000e+00 0.00000000e+00 0.00000000e+00 0.00000000e+00\n",
      " 0.00000000e+00 0.00000000e+00 0.00000000e+00 0.00000000e+00\n",
      " 1.11196176e-04 0.00000000e+00 0.00000000e+00 7.40184507e-04\n",
      " 0.00000000e+00 0.00000000e+00 0.00000000e+00 0.00000000e+00\n",
      " 0.00000000e+00 0.00000000e+00 0.00000000e+00 1.70524255e-03\n",
      " 8.01895221e-05 0.00000000e+00 0.00000000e+00 0.00000000e+00\n",
      " 0.00000000e+00 3.08955641e-04 0.00000000e+00 0.00000000e+00\n",
      " 1.34512619e-03 0.00000000e+00 0.00000000e+00 0.00000000e+00\n",
      " 0.00000000e+00 0.00000000e+00 0.00000000e+00 0.00000000e+00\n",
      " 0.00000000e+00 0.00000000e+00 0.00000000e+00 0.00000000e+00]\n",
      "Mean embedding for class 2: [0.0000000e+00 0.0000000e+00 1.6663484e-04 0.0000000e+00 0.0000000e+00\n",
      " 0.0000000e+00 0.0000000e+00 0.0000000e+00 0.0000000e+00 0.0000000e+00\n",
      " 0.0000000e+00 0.0000000e+00 4.6030618e-05 0.0000000e+00 0.0000000e+00\n",
      " 0.0000000e+00 0.0000000e+00 0.0000000e+00 0.0000000e+00 0.0000000e+00\n",
      " 0.0000000e+00 0.0000000e+00 3.5274425e-03 0.0000000e+00 0.0000000e+00\n",
      " 0.0000000e+00 0.0000000e+00 2.5655772e-03 0.0000000e+00 0.0000000e+00\n",
      " 0.0000000e+00 0.0000000e+00 0.0000000e+00 5.2092050e-04 0.0000000e+00\n",
      " 1.0759844e-03 0.0000000e+00 0.0000000e+00 7.2060791e-03 0.0000000e+00\n",
      " 0.0000000e+00 0.0000000e+00 4.0802904e-03 0.0000000e+00 4.3119804e-04\n",
      " 1.4871991e-03 0.0000000e+00 0.0000000e+00 0.0000000e+00 0.0000000e+00\n",
      " 2.4977385e-01 0.0000000e+00 0.0000000e+00 3.9144811e-01 4.4712750e-03\n",
      " 0.0000000e+00 2.1497018e-04 0.0000000e+00 0.0000000e+00 0.0000000e+00\n",
      " 0.0000000e+00 0.0000000e+00 0.0000000e+00 0.0000000e+00 0.0000000e+00\n",
      " 0.0000000e+00 0.0000000e+00 0.0000000e+00 0.0000000e+00 9.7638858e-04\n",
      " 0.0000000e+00 0.0000000e+00 0.0000000e+00 1.1248076e-02 0.0000000e+00\n",
      " 0.0000000e+00 0.0000000e+00 0.0000000e+00 0.0000000e+00 4.3885079e-03\n",
      " 0.0000000e+00 0.0000000e+00 0.0000000e+00 0.0000000e+00 0.0000000e+00\n",
      " 4.0233221e-02 7.6260155e-01 0.0000000e+00 0.0000000e+00 0.0000000e+00\n",
      " 0.0000000e+00 3.1519336e-01 0.0000000e+00 0.0000000e+00 0.0000000e+00\n",
      " 0.0000000e+00 0.0000000e+00 0.0000000e+00 0.0000000e+00 1.3353773e-04\n",
      " 0.0000000e+00 0.0000000e+00 0.0000000e+00 0.0000000e+00 0.0000000e+00\n",
      " 0.0000000e+00 0.0000000e+00 3.0323896e-01 1.0773904e-03 0.0000000e+00\n",
      " 0.0000000e+00 0.0000000e+00 0.0000000e+00 0.0000000e+00 0.0000000e+00\n",
      " 0.0000000e+00 0.0000000e+00 0.0000000e+00 0.0000000e+00 0.0000000e+00\n",
      " 0.0000000e+00 0.0000000e+00 0.0000000e+00 3.0485026e-03 0.0000000e+00\n",
      " 0.0000000e+00 0.0000000e+00 0.0000000e+00]\n",
      "Mean embedding for class 3: [0.00000000e+00 0.00000000e+00 1.76940672e-03 0.00000000e+00\n",
      " 4.61600081e-04 0.00000000e+00 0.00000000e+00 0.00000000e+00\n",
      " 0.00000000e+00 0.00000000e+00 0.00000000e+00 0.00000000e+00\n",
      " 0.00000000e+00 0.00000000e+00 0.00000000e+00 6.85446081e-04\n",
      " 1.87980663e-03 3.36520869e-04 0.00000000e+00 0.00000000e+00\n",
      " 0.00000000e+00 0.00000000e+00 0.00000000e+00 0.00000000e+00\n",
      " 0.00000000e+00 0.00000000e+00 0.00000000e+00 0.00000000e+00\n",
      " 0.00000000e+00 0.00000000e+00 0.00000000e+00 4.07495588e-01\n",
      " 0.00000000e+00 0.00000000e+00 0.00000000e+00 0.00000000e+00\n",
      " 0.00000000e+00 1.05541875e-03 0.00000000e+00 0.00000000e+00\n",
      " 5.65469146e-01 0.00000000e+00 0.00000000e+00 0.00000000e+00\n",
      " 0.00000000e+00 0.00000000e+00 0.00000000e+00 0.00000000e+00\n",
      " 9.10403556e-04 0.00000000e+00 0.00000000e+00 0.00000000e+00\n",
      " 0.00000000e+00 0.00000000e+00 0.00000000e+00 0.00000000e+00\n",
      " 0.00000000e+00 0.00000000e+00 1.49842468e-03 0.00000000e+00\n",
      " 0.00000000e+00 0.00000000e+00 0.00000000e+00 0.00000000e+00\n",
      " 2.81145900e-01 1.46401895e-03 0.00000000e+00 3.43956017e-05\n",
      " 0.00000000e+00 0.00000000e+00 1.09439436e-03 0.00000000e+00\n",
      " 8.26478750e-03 1.35775772e-03 0.00000000e+00 0.00000000e+00\n",
      " 1.94674314e-04 0.00000000e+00 0.00000000e+00 0.00000000e+00\n",
      " 0.00000000e+00 2.60382047e-04 0.00000000e+00 0.00000000e+00\n",
      " 4.97833069e-04 0.00000000e+00 0.00000000e+00 3.98413718e-01\n",
      " 1.85018711e-04 1.45106483e-03 6.73457806e-04 0.00000000e+00\n",
      " 0.00000000e+00 2.36383937e-02 0.00000000e+00 6.84518542e-04\n",
      " 0.00000000e+00 2.31183320e-02 0.00000000e+00 0.00000000e+00\n",
      " 0.00000000e+00 1.27576946e-04 0.00000000e+00 1.26636885e-02\n",
      " 0.00000000e+00 0.00000000e+00 0.00000000e+00 0.00000000e+00\n",
      " 0.00000000e+00 0.00000000e+00 0.00000000e+00 0.00000000e+00\n",
      " 0.00000000e+00 0.00000000e+00 0.00000000e+00 0.00000000e+00\n",
      " 0.00000000e+00 0.00000000e+00 0.00000000e+00 0.00000000e+00\n",
      " 0.00000000e+00 0.00000000e+00 1.57743896e-04 0.00000000e+00\n",
      " 2.94184405e-02 5.07707119e-01 0.00000000e+00 0.00000000e+00]\n",
      "Mean embedding for class 4: [0.00000000e+00 5.19832084e-03 0.00000000e+00 0.00000000e+00\n",
      " 0.00000000e+00 3.04390788e-01 2.30025710e-03 0.00000000e+00\n",
      " 3.81891221e-01 0.00000000e+00 0.00000000e+00 5.83715329e-04\n",
      " 0.00000000e+00 0.00000000e+00 0.00000000e+00 0.00000000e+00\n",
      " 3.38999122e-01 7.97636993e-03 0.00000000e+00 0.00000000e+00\n",
      " 0.00000000e+00 0.00000000e+00 0.00000000e+00 0.00000000e+00\n",
      " 0.00000000e+00 7.63839198e-05 4.68958402e-03 0.00000000e+00\n",
      " 1.44404231e-03 0.00000000e+00 0.00000000e+00 1.28550269e-03\n",
      " 0.00000000e+00 0.00000000e+00 0.00000000e+00 0.00000000e+00\n",
      " 0.00000000e+00 1.39959157e-02 0.00000000e+00 0.00000000e+00\n",
      " 0.00000000e+00 4.44930911e-01 2.88298428e-01 0.00000000e+00\n",
      " 0.00000000e+00 0.00000000e+00 6.65379514e-04 0.00000000e+00\n",
      " 0.00000000e+00 4.51941967e-01 0.00000000e+00 0.00000000e+00\n",
      " 0.00000000e+00 0.00000000e+00 0.00000000e+00 0.00000000e+00\n",
      " 0.00000000e+00 0.00000000e+00 0.00000000e+00 1.49649582e-04\n",
      " 0.00000000e+00 0.00000000e+00 1.48523439e-04 1.30058676e-01\n",
      " 0.00000000e+00 1.98116177e-03 0.00000000e+00 0.00000000e+00\n",
      " 0.00000000e+00 2.69446755e-04 0.00000000e+00 0.00000000e+00\n",
      " 0.00000000e+00 8.53180885e-03 0.00000000e+00 0.00000000e+00\n",
      " 0.00000000e+00 0.00000000e+00 2.00977400e-01 0.00000000e+00\n",
      " 0.00000000e+00 7.50088831e-04 0.00000000e+00 0.00000000e+00\n",
      " 0.00000000e+00 6.91950670e-04 0.00000000e+00 0.00000000e+00\n",
      " 0.00000000e+00 0.00000000e+00 1.01773665e-04 0.00000000e+00\n",
      " 0.00000000e+00 1.53818342e-04 0.00000000e+00 8.57044070e-04\n",
      " 0.00000000e+00 0.00000000e+00 0.00000000e+00 1.78932984e-04\n",
      " 0.00000000e+00 0.00000000e+00 0.00000000e+00 0.00000000e+00\n",
      " 0.00000000e+00 0.00000000e+00 0.00000000e+00 0.00000000e+00\n",
      " 1.48101826e-03 0.00000000e+00 0.00000000e+00 0.00000000e+00\n",
      " 0.00000000e+00 0.00000000e+00 0.00000000e+00 0.00000000e+00\n",
      " 3.00500005e-01 4.40927455e-04 0.00000000e+00 6.34046082e-05\n",
      " 2.08724220e-03 0.00000000e+00 0.00000000e+00 0.00000000e+00\n",
      " 0.00000000e+00 0.00000000e+00 2.29306770e-05 0.00000000e+00]\n",
      "Mean embedding for class 5: [0.0000000e+00 0.0000000e+00 0.0000000e+00 0.0000000e+00 0.0000000e+00\n",
      " 0.0000000e+00 0.0000000e+00 0.0000000e+00 0.0000000e+00 0.0000000e+00\n",
      " 0.0000000e+00 0.0000000e+00 1.8267593e-04 0.0000000e+00 0.0000000e+00\n",
      " 3.6947301e-04 1.0159193e-03 0.0000000e+00 0.0000000e+00 1.3026196e-05\n",
      " 2.8117901e-01 0.0000000e+00 0.0000000e+00 0.0000000e+00 0.0000000e+00\n",
      " 0.0000000e+00 0.0000000e+00 1.9989838e-03 0.0000000e+00 0.0000000e+00\n",
      " 0.0000000e+00 0.0000000e+00 0.0000000e+00 0.0000000e+00 0.0000000e+00\n",
      " 5.9188204e-04 0.0000000e+00 1.6646950e-03 0.0000000e+00 0.0000000e+00\n",
      " 3.8707908e-03 0.0000000e+00 1.3863885e-04 0.0000000e+00 0.0000000e+00\n",
      " 1.3748136e-03 0.0000000e+00 0.0000000e+00 0.0000000e+00 0.0000000e+00\n",
      " 0.0000000e+00 0.0000000e+00 0.0000000e+00 8.9610869e-04 0.0000000e+00\n",
      " 0.0000000e+00 3.0738322e-04 0.0000000e+00 7.1260178e-01 2.0446447e-03\n",
      " 0.0000000e+00 0.0000000e+00 0.0000000e+00 0.0000000e+00 2.8300875e-01\n",
      " 0.0000000e+00 0.0000000e+00 9.2819762e-05 0.0000000e+00 0.0000000e+00\n",
      " 0.0000000e+00 0.0000000e+00 3.5391415e-03 9.9204527e-03 3.1689444e-04\n",
      " 0.0000000e+00 0.0000000e+00 0.0000000e+00 0.0000000e+00 0.0000000e+00\n",
      " 3.2248942e-04 1.2932178e-01 0.0000000e+00 3.2261412e-03 4.6900995e-02\n",
      " 0.0000000e+00 1.1439960e-03 2.7121103e-01 0.0000000e+00 0.0000000e+00\n",
      " 0.0000000e+00 2.6632169e-01 0.0000000e+00 0.0000000e+00 0.0000000e+00\n",
      " 0.0000000e+00 0.0000000e+00 3.8582394e-01 0.0000000e+00 0.0000000e+00\n",
      " 0.0000000e+00 0.0000000e+00 8.3316339e-04 8.7712547e-03 0.0000000e+00\n",
      " 0.0000000e+00 0.0000000e+00 0.0000000e+00 7.2692055e-03 0.0000000e+00\n",
      " 0.0000000e+00 0.0000000e+00 0.0000000e+00 0.0000000e+00 0.0000000e+00\n",
      " 0.0000000e+00 2.0015340e-03 2.5054629e-04 1.8872594e-03 1.4757544e-03\n",
      " 0.0000000e+00 0.0000000e+00 0.0000000e+00 1.1797338e-03 0.0000000e+00\n",
      " 1.4710110e-03 0.0000000e+00 0.0000000e+00]\n",
      "Mean embedding for class 6: [2.0620626e-04 0.0000000e+00 0.0000000e+00 0.0000000e+00 0.0000000e+00\n",
      " 3.9218011e-01 0.0000000e+00 0.0000000e+00 2.1861163e-03 0.0000000e+00\n",
      " 0.0000000e+00 7.1467382e-01 0.0000000e+00 0.0000000e+00 0.0000000e+00\n",
      " 0.0000000e+00 4.0245680e-03 0.0000000e+00 0.0000000e+00 0.0000000e+00\n",
      " 5.7366560e-03 0.0000000e+00 0.0000000e+00 0.0000000e+00 2.3037069e-04\n",
      " 0.0000000e+00 0.0000000e+00 0.0000000e+00 0.0000000e+00 0.0000000e+00\n",
      " 0.0000000e+00 0.0000000e+00 0.0000000e+00 0.0000000e+00 0.0000000e+00\n",
      " 2.1494512e-04 0.0000000e+00 3.1455717e-04 0.0000000e+00 7.5667329e-02\n",
      " 0.0000000e+00 8.5112093e-05 2.2010335e-01 0.0000000e+00 0.0000000e+00\n",
      " 0.0000000e+00 0.0000000e+00 0.0000000e+00 0.0000000e+00 4.4214036e-04\n",
      " 0.0000000e+00 0.0000000e+00 0.0000000e+00 0.0000000e+00 0.0000000e+00\n",
      " 0.0000000e+00 0.0000000e+00 0.0000000e+00 0.0000000e+00 3.7167475e-01\n",
      " 0.0000000e+00 0.0000000e+00 0.0000000e+00 1.3480680e-04 3.4833673e-04\n",
      " 0.0000000e+00 0.0000000e+00 0.0000000e+00 0.0000000e+00 0.0000000e+00\n",
      " 0.0000000e+00 9.5303525e-04 0.0000000e+00 9.8406628e-04 0.0000000e+00\n",
      " 0.0000000e+00 0.0000000e+00 0.0000000e+00 3.1442492e-04 0.0000000e+00\n",
      " 0.0000000e+00 4.6493678e-04 0.0000000e+00 0.0000000e+00 0.0000000e+00\n",
      " 3.6061370e-01 4.6211123e-02 2.3565157e-03 0.0000000e+00 0.0000000e+00\n",
      " 0.0000000e+00 1.1405202e-03 0.0000000e+00 0.0000000e+00 0.0000000e+00\n",
      " 0.0000000e+00 0.0000000e+00 0.0000000e+00 0.0000000e+00 1.7550685e-03\n",
      " 0.0000000e+00 0.0000000e+00 0.0000000e+00 1.5244228e-04 0.0000000e+00\n",
      " 0.0000000e+00 0.0000000e+00 0.0000000e+00 1.8076203e-03 0.0000000e+00\n",
      " 0.0000000e+00 0.0000000e+00 0.0000000e+00 0.0000000e+00 0.0000000e+00\n",
      " 0.0000000e+00 0.0000000e+00 0.0000000e+00 2.7132872e-04 0.0000000e+00\n",
      " 0.0000000e+00 0.0000000e+00 0.0000000e+00 0.0000000e+00 0.0000000e+00\n",
      " 0.0000000e+00 0.0000000e+00 0.0000000e+00]\n",
      "Mean embedding for class 7: [0.0000000e+00 0.0000000e+00 0.0000000e+00 5.9284982e-03 1.2421581e-03\n",
      " 5.6748220e-04 0.0000000e+00 0.0000000e+00 0.0000000e+00 1.4565873e-04\n",
      " 7.1433780e-04 0.0000000e+00 0.0000000e+00 0.0000000e+00 1.9390651e-03\n",
      " 0.0000000e+00 0.0000000e+00 0.0000000e+00 2.3501294e-03 0.0000000e+00\n",
      " 0.0000000e+00 1.4915447e-04 0.0000000e+00 0.0000000e+00 0.0000000e+00\n",
      " 0.0000000e+00 2.9827672e-04 0.0000000e+00 0.0000000e+00 0.0000000e+00\n",
      " 0.0000000e+00 2.5553235e-01 0.0000000e+00 2.3288011e-04 0.0000000e+00\n",
      " 0.0000000e+00 0.0000000e+00 3.9836678e-01 0.0000000e+00 0.0000000e+00\n",
      " 0.0000000e+00 0.0000000e+00 2.8309510e-03 2.6859395e-04 5.1145536e-01\n",
      " 0.0000000e+00 0.0000000e+00 0.0000000e+00 0.0000000e+00 0.0000000e+00\n",
      " 1.0473698e-02 0.0000000e+00 3.0550067e-03 1.4862685e-02 0.0000000e+00\n",
      " 0.0000000e+00 0.0000000e+00 0.0000000e+00 0.0000000e+00 0.0000000e+00\n",
      " 0.0000000e+00 0.0000000e+00 0.0000000e+00 1.3373309e-01 0.0000000e+00\n",
      " 0.0000000e+00 6.5861124e-01 0.0000000e+00 0.0000000e+00 0.0000000e+00\n",
      " 0.0000000e+00 0.0000000e+00 2.2042005e-03 1.2657999e-03 0.0000000e+00\n",
      " 0.0000000e+00 4.1860554e-04 0.0000000e+00 9.0047390e-05 0.0000000e+00\n",
      " 4.9722922e-04 3.5619316e-05 0.0000000e+00 0.0000000e+00 1.0749343e-03\n",
      " 2.2704400e-01 3.8674628e-04 0.0000000e+00 0.0000000e+00 0.0000000e+00\n",
      " 0.0000000e+00 0.0000000e+00 0.0000000e+00 0.0000000e+00 0.0000000e+00\n",
      " 0.0000000e+00 0.0000000e+00 0.0000000e+00 0.0000000e+00 0.0000000e+00\n",
      " 0.0000000e+00 6.3585473e-04 0.0000000e+00 0.0000000e+00 3.6859117e-05\n",
      " 0.0000000e+00 0.0000000e+00 0.0000000e+00 0.0000000e+00 1.6571964e-04\n",
      " 0.0000000e+00 0.0000000e+00 0.0000000e+00 0.0000000e+00 0.0000000e+00\n",
      " 4.9068173e-04 0.0000000e+00 7.6305709e-04 1.9574112e-03 0.0000000e+00\n",
      " 0.0000000e+00 0.0000000e+00 0.0000000e+00 0.0000000e+00 0.0000000e+00\n",
      " 0.0000000e+00 0.0000000e+00 6.3454160e-03]\n",
      "Mean embedding for class 8: [0.0000000e+00 0.0000000e+00 0.0000000e+00 0.0000000e+00 0.0000000e+00\n",
      " 0.0000000e+00 1.9144458e-03 0.0000000e+00 0.0000000e+00 0.0000000e+00\n",
      " 0.0000000e+00 4.3508774e-01 0.0000000e+00 0.0000000e+00 0.0000000e+00\n",
      " 0.0000000e+00 2.6895934e-01 2.2555951e-03 0.0000000e+00 0.0000000e+00\n",
      " 0.0000000e+00 0.0000000e+00 0.0000000e+00 0.0000000e+00 0.0000000e+00\n",
      " 0.0000000e+00 0.0000000e+00 0.0000000e+00 2.0117681e-03 0.0000000e+00\n",
      " 0.0000000e+00 9.7196633e-03 0.0000000e+00 0.0000000e+00 0.0000000e+00\n",
      " 0.0000000e+00 0.0000000e+00 0.0000000e+00 0.0000000e+00 0.0000000e+00\n",
      " 0.0000000e+00 9.9704426e-04 0.0000000e+00 0.0000000e+00 0.0000000e+00\n",
      " 0.0000000e+00 0.0000000e+00 0.0000000e+00 0.0000000e+00 0.0000000e+00\n",
      " 0.0000000e+00 0.0000000e+00 0.0000000e+00 0.0000000e+00 0.0000000e+00\n",
      " 0.0000000e+00 0.0000000e+00 0.0000000e+00 1.5214686e-03 2.3877098e-01\n",
      " 0.0000000e+00 0.0000000e+00 0.0000000e+00 0.0000000e+00 3.6526677e-01\n",
      " 0.0000000e+00 0.0000000e+00 0.0000000e+00 0.0000000e+00 0.0000000e+00\n",
      " 0.0000000e+00 0.0000000e+00 4.5078653e-03 3.5534231e-05 0.0000000e+00\n",
      " 0.0000000e+00 6.2879996e-04 0.0000000e+00 0.0000000e+00 9.9210804e-03\n",
      " 0.0000000e+00 0.0000000e+00 0.0000000e+00 0.0000000e+00 0.0000000e+00\n",
      " 0.0000000e+00 0.0000000e+00 5.2122355e-01 0.0000000e+00 8.9663465e-04\n",
      " 8.4205501e-05 0.0000000e+00 0.0000000e+00 3.9871553e-01 0.0000000e+00\n",
      " 0.0000000e+00 1.1980108e-04 4.0398915e-03 0.0000000e+00 0.0000000e+00\n",
      " 4.1737291e-04 0.0000000e+00 0.0000000e+00 1.3290775e-03 0.0000000e+00\n",
      " 0.0000000e+00 0.0000000e+00 0.0000000e+00 0.0000000e+00 0.0000000e+00\n",
      " 0.0000000e+00 2.9060848e-03 0.0000000e+00 0.0000000e+00 0.0000000e+00\n",
      " 0.0000000e+00 0.0000000e+00 0.0000000e+00 3.0291873e-01 0.0000000e+00\n",
      " 6.0359092e-04 0.0000000e+00 0.0000000e+00 0.0000000e+00 4.9162470e-03\n",
      " 1.7234439e-03 0.0000000e+00 0.0000000e+00]\n",
      "Mean embedding for class 9: [3.07175261e-03 0.00000000e+00 0.00000000e+00 0.00000000e+00\n",
      " 0.00000000e+00 1.12584676e-03 0.00000000e+00 0.00000000e+00\n",
      " 0.00000000e+00 0.00000000e+00 1.77299988e-03 0.00000000e+00\n",
      " 0.00000000e+00 5.28120981e-05 0.00000000e+00 0.00000000e+00\n",
      " 0.00000000e+00 0.00000000e+00 0.00000000e+00 0.00000000e+00\n",
      " 7.87680596e-03 0.00000000e+00 0.00000000e+00 0.00000000e+00\n",
      " 0.00000000e+00 0.00000000e+00 3.36659694e-04 0.00000000e+00\n",
      " 0.00000000e+00 0.00000000e+00 0.00000000e+00 5.61137102e-04\n",
      " 0.00000000e+00 1.62371216e-05 0.00000000e+00 0.00000000e+00\n",
      " 0.00000000e+00 9.07939044e-04 0.00000000e+00 4.92421491e-03\n",
      " 0.00000000e+00 2.74588075e-03 2.66115755e-01 0.00000000e+00\n",
      " 5.25709288e-03 9.98285686e-05 0.00000000e+00 0.00000000e+00\n",
      " 0.00000000e+00 6.43569336e-04 0.00000000e+00 0.00000000e+00\n",
      " 0.00000000e+00 2.34267465e-03 0.00000000e+00 0.00000000e+00\n",
      " 0.00000000e+00 0.00000000e+00 0.00000000e+00 6.38799247e-05\n",
      " 0.00000000e+00 2.08904676e-04 0.00000000e+00 6.07859612e-01\n",
      " 0.00000000e+00 0.00000000e+00 1.97519804e-03 0.00000000e+00\n",
      " 0.00000000e+00 0.00000000e+00 0.00000000e+00 7.98799004e-03\n",
      " 0.00000000e+00 0.00000000e+00 0.00000000e+00 0.00000000e+00\n",
      " 0.00000000e+00 0.00000000e+00 0.00000000e+00 2.45612743e-03\n",
      " 0.00000000e+00 1.65136729e-03 0.00000000e+00 0.00000000e+00\n",
      " 0.00000000e+00 5.53316951e-01 1.47767656e-03 0.00000000e+00\n",
      " 0.00000000e+00 0.00000000e+00 1.46532315e-04 0.00000000e+00\n",
      " 0.00000000e+00 0.00000000e+00 0.00000000e+00 0.00000000e+00\n",
      " 0.00000000e+00 0.00000000e+00 0.00000000e+00 4.92504120e-01\n",
      " 0.00000000e+00 0.00000000e+00 0.00000000e+00 6.77263306e-05\n",
      " 1.02676509e-03 8.43153684e-05 0.00000000e+00 0.00000000e+00\n",
      " 0.00000000e+00 0.00000000e+00 0.00000000e+00 0.00000000e+00\n",
      " 4.15019487e-04 0.00000000e+00 1.02589234e-04 2.88433250e-04\n",
      " 4.80550807e-03 0.00000000e+00 0.00000000e+00 0.00000000e+00\n",
      " 0.00000000e+00 0.00000000e+00 0.00000000e+00 0.00000000e+00\n",
      " 0.00000000e+00 0.00000000e+00 4.70883038e-04 0.00000000e+00]\n",
      "Mean embedding for class 10: [0.00000000e+00 0.00000000e+00 0.00000000e+00 0.00000000e+00\n",
      " 0.00000000e+00 5.16561931e-03 1.08359253e-03 0.00000000e+00\n",
      " 5.98639362e-02 0.00000000e+00 0.00000000e+00 1.92696117e-02\n",
      " 0.00000000e+00 0.00000000e+00 0.00000000e+00 0.00000000e+00\n",
      " 1.05561495e-01 0.00000000e+00 0.00000000e+00 0.00000000e+00\n",
      " 0.00000000e+00 0.00000000e+00 0.00000000e+00 0.00000000e+00\n",
      " 0.00000000e+00 0.00000000e+00 0.00000000e+00 0.00000000e+00\n",
      " 3.91620666e-01 0.00000000e+00 0.00000000e+00 3.70475799e-01\n",
      " 0.00000000e+00 0.00000000e+00 0.00000000e+00 0.00000000e+00\n",
      " 0.00000000e+00 0.00000000e+00 0.00000000e+00 1.59057090e-03\n",
      " 0.00000000e+00 2.10143524e-04 1.25340407e-03 0.00000000e+00\n",
      " 0.00000000e+00 0.00000000e+00 4.49417916e-04 0.00000000e+00\n",
      " 4.86659148e-04 5.49472775e-03 0.00000000e+00 0.00000000e+00\n",
      " 0.00000000e+00 0.00000000e+00 0.00000000e+00 0.00000000e+00\n",
      " 0.00000000e+00 0.00000000e+00 0.00000000e+00 1.75211416e-03\n",
      " 0.00000000e+00 0.00000000e+00 0.00000000e+00 2.67054290e-01\n",
      " 1.26604037e-02 0.00000000e+00 0.00000000e+00 0.00000000e+00\n",
      " 0.00000000e+00 0.00000000e+00 1.91622437e-03 0.00000000e+00\n",
      " 0.00000000e+00 0.00000000e+00 0.00000000e+00 0.00000000e+00\n",
      " 4.01835144e-03 0.00000000e+00 1.08196447e-03 5.54750022e-03\n",
      " 0.00000000e+00 0.00000000e+00 0.00000000e+00 0.00000000e+00\n",
      " 2.13215128e-03 8.16258194e-04 0.00000000e+00 8.08654446e-03\n",
      " 1.16014550e-03 0.00000000e+00 0.00000000e+00 0.00000000e+00\n",
      " 0.00000000e+00 7.73214042e-01 0.00000000e+00 0.00000000e+00\n",
      " 0.00000000e+00 0.00000000e+00 0.00000000e+00 0.00000000e+00\n",
      " 0.00000000e+00 0.00000000e+00 0.00000000e+00 0.00000000e+00\n",
      " 0.00000000e+00 0.00000000e+00 0.00000000e+00 0.00000000e+00\n",
      " 0.00000000e+00 0.00000000e+00 0.00000000e+00 0.00000000e+00\n",
      " 0.00000000e+00 0.00000000e+00 0.00000000e+00 1.75582303e-04\n",
      " 1.91227242e-03 0.00000000e+00 9.74943279e-04 4.53548710e-05\n",
      " 0.00000000e+00 0.00000000e+00 0.00000000e+00 0.00000000e+00\n",
      " 0.00000000e+00 3.02463048e-03 0.00000000e+00 0.00000000e+00]\n",
      "Mean embedding for class 11: [0.0000000e+00 3.2142323e-04 0.0000000e+00 0.0000000e+00 0.0000000e+00\n",
      " 0.0000000e+00 4.6331564e-01 4.8691337e-04 0.0000000e+00 5.7138233e-03\n",
      " 0.0000000e+00 3.4992117e-04 0.0000000e+00 0.0000000e+00 0.0000000e+00\n",
      " 1.3230766e-05 2.3822550e-01 0.0000000e+00 0.0000000e+00 2.6517882e-04\n",
      " 0.0000000e+00 0.0000000e+00 0.0000000e+00 0.0000000e+00 0.0000000e+00\n",
      " 0.0000000e+00 0.0000000e+00 0.0000000e+00 8.3097287e-02 0.0000000e+00\n",
      " 1.3154527e-03 0.0000000e+00 0.0000000e+00 4.3577474e-04 0.0000000e+00\n",
      " 0.0000000e+00 0.0000000e+00 0.0000000e+00 0.0000000e+00 5.1104039e-01\n",
      " 0.0000000e+00 0.0000000e+00 8.5542764e-04 0.0000000e+00 0.0000000e+00\n",
      " 0.0000000e+00 0.0000000e+00 5.4410222e-04 0.0000000e+00 1.2614171e-04\n",
      " 0.0000000e+00 0.0000000e+00 0.0000000e+00 0.0000000e+00 2.5205014e-04\n",
      " 0.0000000e+00 0.0000000e+00 0.0000000e+00 0.0000000e+00 0.0000000e+00\n",
      " 0.0000000e+00 1.9397396e-03 8.4753550e-04 0.0000000e+00 0.0000000e+00\n",
      " 0.0000000e+00 0.0000000e+00 5.4744002e-04 0.0000000e+00 0.0000000e+00\n",
      " 1.0762386e-03 0.0000000e+00 0.0000000e+00 0.0000000e+00 0.0000000e+00\n",
      " 3.4177469e-04 0.0000000e+00 0.0000000e+00 0.0000000e+00 4.2943820e-01\n",
      " 0.0000000e+00 0.0000000e+00 0.0000000e+00 1.4368618e-04 0.0000000e+00\n",
      " 3.2716240e-03 0.0000000e+00 0.0000000e+00 1.1840452e-03 0.0000000e+00\n",
      " 1.1865065e-03 0.0000000e+00 1.7410863e-02 1.9980070e-01 0.0000000e+00\n",
      " 0.0000000e+00 5.5904649e-05 0.0000000e+00 0.0000000e+00 4.7015947e-01\n",
      " 0.0000000e+00 1.8459199e-03 4.0692266e-04 0.0000000e+00 0.0000000e+00\n",
      " 0.0000000e+00 0.0000000e+00 0.0000000e+00 0.0000000e+00 1.1912107e-03\n",
      " 0.0000000e+00 0.0000000e+00 0.0000000e+00 0.0000000e+00 5.7716976e-04\n",
      " 0.0000000e+00 3.1510539e-05 0.0000000e+00 2.7168924e-03 0.0000000e+00\n",
      " 4.0369760e-02 7.4936711e-04 0.0000000e+00 0.0000000e+00 0.0000000e+00\n",
      " 0.0000000e+00 9.0433321e-05 0.0000000e+00]\n",
      "Mean embedding for class 12: [4.30512562e-04 0.00000000e+00 1.04589649e-02 0.00000000e+00\n",
      " 1.32293848e-03 4.52216424e-04 0.00000000e+00 0.00000000e+00\n",
      " 0.00000000e+00 0.00000000e+00 1.52832625e-04 0.00000000e+00\n",
      " 0.00000000e+00 0.00000000e+00 1.51180375e-05 0.00000000e+00\n",
      " 6.75096235e-04 0.00000000e+00 0.00000000e+00 0.00000000e+00\n",
      " 0.00000000e+00 0.00000000e+00 0.00000000e+00 0.00000000e+00\n",
      " 0.00000000e+00 0.00000000e+00 0.00000000e+00 0.00000000e+00\n",
      " 9.08368202e-06 0.00000000e+00 0.00000000e+00 4.79305118e-01\n",
      " 0.00000000e+00 0.00000000e+00 0.00000000e+00 0.00000000e+00\n",
      " 0.00000000e+00 2.48112716e-04 0.00000000e+00 0.00000000e+00\n",
      " 3.16306879e-03 0.00000000e+00 0.00000000e+00 0.00000000e+00\n",
      " 0.00000000e+00 0.00000000e+00 0.00000000e+00 0.00000000e+00\n",
      " 1.06701646e-02 0.00000000e+00 5.35318570e-04 3.70702893e-01\n",
      " 0.00000000e+00 1.54439464e-01 0.00000000e+00 0.00000000e+00\n",
      " 0.00000000e+00 0.00000000e+00 0.00000000e+00 2.41042144e-04\n",
      " 0.00000000e+00 0.00000000e+00 1.71050278e-03 1.02371993e-02\n",
      " 0.00000000e+00 0.00000000e+00 0.00000000e+00 0.00000000e+00\n",
      " 3.87464650e-04 1.38021815e-05 3.25883157e-04 0.00000000e+00\n",
      " 0.00000000e+00 0.00000000e+00 1.05019222e-04 0.00000000e+00\n",
      " 7.73766696e-01 0.00000000e+00 0.00000000e+00 0.00000000e+00\n",
      " 3.56241508e-04 0.00000000e+00 0.00000000e+00 0.00000000e+00\n",
      " 0.00000000e+00 3.43524473e-04 1.26451976e-03 5.92234603e-04\n",
      " 1.12586375e-03 0.00000000e+00 0.00000000e+00 4.87956830e-04\n",
      " 4.27625782e-04 0.00000000e+00 1.53710862e-04 0.00000000e+00\n",
      " 0.00000000e+00 0.00000000e+00 3.17740079e-04 0.00000000e+00\n",
      " 0.00000000e+00 0.00000000e+00 1.73055814e-04 0.00000000e+00\n",
      " 0.00000000e+00 0.00000000e+00 0.00000000e+00 0.00000000e+00\n",
      " 0.00000000e+00 9.88110260e-05 0.00000000e+00 3.53672053e-03\n",
      " 2.08597747e-04 0.00000000e+00 0.00000000e+00 0.00000000e+00\n",
      " 0.00000000e+00 0.00000000e+00 0.00000000e+00 0.00000000e+00\n",
      " 0.00000000e+00 0.00000000e+00 0.00000000e+00 0.00000000e+00\n",
      " 0.00000000e+00 1.83048274e-03 0.00000000e+00 0.00000000e+00]\n",
      "Mean embedding for class 13: [0.0000000e+00 0.0000000e+00 0.0000000e+00 1.1081685e-03 0.0000000e+00\n",
      " 2.3659188e-03 0.0000000e+00 0.0000000e+00 0.0000000e+00 0.0000000e+00\n",
      " 0.0000000e+00 5.8118063e-03 0.0000000e+00 1.1685365e-03 0.0000000e+00\n",
      " 0.0000000e+00 6.1723683e-04 0.0000000e+00 0.0000000e+00 0.0000000e+00\n",
      " 8.3724484e-02 0.0000000e+00 0.0000000e+00 0.0000000e+00 0.0000000e+00\n",
      " 0.0000000e+00 0.0000000e+00 2.5158465e-01 0.0000000e+00 1.6749096e-03\n",
      " 0.0000000e+00 0.0000000e+00 1.8276293e-03 0.0000000e+00 2.5872176e-03\n",
      " 0.0000000e+00 0.0000000e+00 2.6633104e-03 0.0000000e+00 0.0000000e+00\n",
      " 0.0000000e+00 1.3368587e-03 3.6723774e-03 0.0000000e+00 0.0000000e+00\n",
      " 2.3081311e-04 0.0000000e+00 0.0000000e+00 0.0000000e+00 2.0356172e-04\n",
      " 3.9668679e-01 0.0000000e+00 0.0000000e+00 0.0000000e+00 0.0000000e+00\n",
      " 0.0000000e+00 0.0000000e+00 0.0000000e+00 1.1161319e-03 0.0000000e+00\n",
      " 0.0000000e+00 0.0000000e+00 0.0000000e+00 0.0000000e+00 1.3061487e-03\n",
      " 0.0000000e+00 0.0000000e+00 0.0000000e+00 0.0000000e+00 0.0000000e+00\n",
      " 0.0000000e+00 0.0000000e+00 2.9904887e-04 0.0000000e+00 0.0000000e+00\n",
      " 0.0000000e+00 0.0000000e+00 0.0000000e+00 0.0000000e+00 0.0000000e+00\n",
      " 0.0000000e+00 8.3043100e-03 0.0000000e+00 0.0000000e+00 1.4582727e-02\n",
      " 8.8715996e-04 6.0586212e-03 0.0000000e+00 0.0000000e+00 0.0000000e+00\n",
      " 0.0000000e+00 4.4793853e-01 0.0000000e+00 0.0000000e+00 0.0000000e+00\n",
      " 0.0000000e+00 0.0000000e+00 1.2290941e-03 0.0000000e+00 0.0000000e+00\n",
      " 3.7982210e-04 0.0000000e+00 0.0000000e+00 6.3238162e-01 0.0000000e+00\n",
      " 0.0000000e+00 0.0000000e+00 0.0000000e+00 3.8390550e-01 0.0000000e+00\n",
      " 1.4446626e-03 0.0000000e+00 0.0000000e+00 0.0000000e+00 6.3725660e-04\n",
      " 0.0000000e+00 2.2546513e-02 0.0000000e+00 0.0000000e+00 0.0000000e+00\n",
      " 0.0000000e+00 0.0000000e+00 0.0000000e+00 2.7016187e-04 0.0000000e+00\n",
      " 0.0000000e+00 6.8405777e-04 0.0000000e+00]\n",
      "Mean embedding for class 14: [0.0000000e+00 0.0000000e+00 0.0000000e+00 0.0000000e+00 0.0000000e+00\n",
      " 0.0000000e+00 0.0000000e+00 0.0000000e+00 0.0000000e+00 0.0000000e+00\n",
      " 0.0000000e+00 0.0000000e+00 0.0000000e+00 0.0000000e+00 0.0000000e+00\n",
      " 0.0000000e+00 0.0000000e+00 0.0000000e+00 0.0000000e+00 0.0000000e+00\n",
      " 3.8998926e-01 0.0000000e+00 0.0000000e+00 7.0455839e-04 0.0000000e+00\n",
      " 0.0000000e+00 0.0000000e+00 1.6283624e-04 2.8726590e-04 9.0739901e-05\n",
      " 0.0000000e+00 0.0000000e+00 2.2652984e-04 8.7757530e-03 2.0709768e-04\n",
      " 0.0000000e+00 0.0000000e+00 0.0000000e+00 0.0000000e+00 0.0000000e+00\n",
      " 0.0000000e+00 0.0000000e+00 4.9095455e-04 5.0800317e-03 0.0000000e+00\n",
      " 5.7282123e-05 0.0000000e+00 0.0000000e+00 0.0000000e+00 2.8558110e-03\n",
      " 0.0000000e+00 0.0000000e+00 0.0000000e+00 8.2646511e-05 0.0000000e+00\n",
      " 0.0000000e+00 7.5497490e-04 0.0000000e+00 6.9109793e-04 0.0000000e+00\n",
      " 0.0000000e+00 0.0000000e+00 0.0000000e+00 0.0000000e+00 7.6991601e-05\n",
      " 1.7208923e-04 0.0000000e+00 0.0000000e+00 0.0000000e+00 0.0000000e+00\n",
      " 0.0000000e+00 0.0000000e+00 0.0000000e+00 5.5556041e-03 0.0000000e+00\n",
      " 0.0000000e+00 0.0000000e+00 0.0000000e+00 0.0000000e+00 6.3829229e-04\n",
      " 4.8211831e-04 3.0974271e-02 5.2888831e-03 0.0000000e+00 7.9086894e-01\n",
      " 0.0000000e+00 0.0000000e+00 0.0000000e+00 0.0000000e+00 0.0000000e+00\n",
      " 0.0000000e+00 3.3325280e-04 0.0000000e+00 0.0000000e+00 0.0000000e+00\n",
      " 0.0000000e+00 0.0000000e+00 1.9264125e-03 0.0000000e+00 0.0000000e+00\n",
      " 0.0000000e+00 0.0000000e+00 0.0000000e+00 2.3941909e-01 0.0000000e+00\n",
      " 0.0000000e+00 0.0000000e+00 3.1126064e-04 2.8893261e-03 0.0000000e+00\n",
      " 7.6952804e-04 0.0000000e+00 0.0000000e+00 2.8443104e-04 0.0000000e+00\n",
      " 0.0000000e+00 3.9144740e-01 0.0000000e+00 0.0000000e+00 1.0600638e-04\n",
      " 0.0000000e+00 0.0000000e+00 0.0000000e+00 0.0000000e+00 0.0000000e+00\n",
      " 0.0000000e+00 0.0000000e+00 5.6723849e-05]\n",
      "Mean embedding for class 15: [0.0000000e+00 0.0000000e+00 0.0000000e+00 0.0000000e+00 4.9279153e-04\n",
      " 2.5192421e-04 0.0000000e+00 0.0000000e+00 0.0000000e+00 0.0000000e+00\n",
      " 0.0000000e+00 3.4770751e-03 0.0000000e+00 0.0000000e+00 9.0966164e-04\n",
      " 0.0000000e+00 6.3775736e-03 0.0000000e+00 5.0143752e-04 3.7530870e-03\n",
      " 0.0000000e+00 0.0000000e+00 9.7207777e-04 0.0000000e+00 0.0000000e+00\n",
      " 0.0000000e+00 0.0000000e+00 1.1224912e-02 0.0000000e+00 0.0000000e+00\n",
      " 0.0000000e+00 0.0000000e+00 0.0000000e+00 0.0000000e+00 0.0000000e+00\n",
      " 0.0000000e+00 0.0000000e+00 3.5393256e-01 0.0000000e+00 0.0000000e+00\n",
      " 2.5202596e-04 0.0000000e+00 0.0000000e+00 0.0000000e+00 0.0000000e+00\n",
      " 0.0000000e+00 0.0000000e+00 0.0000000e+00 0.0000000e+00 0.0000000e+00\n",
      " 1.2451930e-03 5.5335875e-04 0.0000000e+00 0.0000000e+00 0.0000000e+00\n",
      " 0.0000000e+00 0.0000000e+00 1.9790449e-03 3.4523171e-03 3.9207726e-03\n",
      " 0.0000000e+00 0.0000000e+00 4.2794089e-04 0.0000000e+00 3.6305788e-01\n",
      " 0.0000000e+00 7.8230613e-04 0.0000000e+00 0.0000000e+00 0.0000000e+00\n",
      " 0.0000000e+00 0.0000000e+00 4.6041527e-01 0.0000000e+00 0.0000000e+00\n",
      " 0.0000000e+00 0.0000000e+00 0.0000000e+00 0.0000000e+00 0.0000000e+00\n",
      " 0.0000000e+00 0.0000000e+00 0.0000000e+00 1.0133042e-04 0.0000000e+00\n",
      " 0.0000000e+00 0.0000000e+00 1.3646069e-01 0.0000000e+00 0.0000000e+00\n",
      " 0.0000000e+00 4.6378537e-03 0.0000000e+00 2.5892970e-03 0.0000000e+00\n",
      " 0.0000000e+00 0.0000000e+00 0.0000000e+00 0.0000000e+00 0.0000000e+00\n",
      " 0.0000000e+00 0.0000000e+00 1.5401734e-03 3.0985084e-01 0.0000000e+00\n",
      " 0.0000000e+00 0.0000000e+00 0.0000000e+00 2.8315862e-03 0.0000000e+00\n",
      " 0.0000000e+00 1.2548205e-03 0.0000000e+00 0.0000000e+00 0.0000000e+00\n",
      " 0.0000000e+00 0.0000000e+00 0.0000000e+00 6.1119574e-01 0.0000000e+00\n",
      " 1.4047764e-01 1.9964147e-02 6.7325789e-03 3.0376253e-04 0.0000000e+00\n",
      " 2.6240221e-03 0.0000000e+00 0.0000000e+00]\n",
      "Mean embedding for class 16: [0.0000000e+00 0.0000000e+00 0.0000000e+00 0.0000000e+00 0.0000000e+00\n",
      " 1.1703940e-03 0.0000000e+00 0.0000000e+00 0.0000000e+00 0.0000000e+00\n",
      " 0.0000000e+00 0.0000000e+00 0.0000000e+00 7.5349020e-04 0.0000000e+00\n",
      " 0.0000000e+00 0.0000000e+00 0.0000000e+00 0.0000000e+00 0.0000000e+00\n",
      " 0.0000000e+00 0.0000000e+00 0.0000000e+00 0.0000000e+00 1.0821895e-02\n",
      " 0.0000000e+00 0.0000000e+00 0.0000000e+00 0.0000000e+00 0.0000000e+00\n",
      " 0.0000000e+00 0.0000000e+00 0.0000000e+00 8.8159871e-01 0.0000000e+00\n",
      " 5.1098055e-04 0.0000000e+00 7.2899688e-04 0.0000000e+00 4.2921066e-02\n",
      " 0.0000000e+00 0.0000000e+00 2.2396885e-03 6.9942944e-05 0.0000000e+00\n",
      " 0.0000000e+00 0.0000000e+00 6.0785876e-04 0.0000000e+00 0.0000000e+00\n",
      " 0.0000000e+00 0.0000000e+00 0.0000000e+00 2.4223895e-01 4.6071393e-04\n",
      " 0.0000000e+00 0.0000000e+00 0.0000000e+00 0.0000000e+00 0.0000000e+00\n",
      " 0.0000000e+00 0.0000000e+00 0.0000000e+00 0.0000000e+00 0.0000000e+00\n",
      " 1.4260819e-04 4.7545912e-04 0.0000000e+00 0.0000000e+00 0.0000000e+00\n",
      " 0.0000000e+00 0.0000000e+00 0.0000000e+00 3.9656465e-03 0.0000000e+00\n",
      " 0.0000000e+00 0.0000000e+00 0.0000000e+00 6.8648676e-03 0.0000000e+00\n",
      " 0.0000000e+00 1.1871347e-03 0.0000000e+00 0.0000000e+00 8.2976354e-04\n",
      " 0.0000000e+00 8.1858988e-04 0.0000000e+00 0.0000000e+00 0.0000000e+00\n",
      " 4.1850240e-04 0.0000000e+00 0.0000000e+00 0.0000000e+00 0.0000000e+00\n",
      " 0.0000000e+00 0.0000000e+00 0.0000000e+00 0.0000000e+00 0.0000000e+00\n",
      " 0.0000000e+00 0.0000000e+00 0.0000000e+00 0.0000000e+00 0.0000000e+00\n",
      " 0.0000000e+00 0.0000000e+00 3.9337301e-01 0.0000000e+00 0.0000000e+00\n",
      " 0.0000000e+00 0.0000000e+00 5.4103299e-04 0.0000000e+00 0.0000000e+00\n",
      " 3.4156075e-04 3.6113244e-03 4.5170583e-04 0.0000000e+00 0.0000000e+00\n",
      " 0.0000000e+00 0.0000000e+00 1.2142096e-04 0.0000000e+00 0.0000000e+00\n",
      " 0.0000000e+00 0.0000000e+00 0.0000000e+00]\n",
      "Mean embedding for class 17: [0.0000000e+00 0.0000000e+00 0.0000000e+00 0.0000000e+00 3.7740633e-01\n",
      " 0.0000000e+00 4.5783407e-04 0.0000000e+00 0.0000000e+00 0.0000000e+00\n",
      " 0.0000000e+00 0.0000000e+00 0.0000000e+00 0.0000000e+00 4.5158395e-01\n",
      " 0.0000000e+00 0.0000000e+00 0.0000000e+00 0.0000000e+00 0.0000000e+00\n",
      " 0.0000000e+00 0.0000000e+00 0.0000000e+00 0.0000000e+00 0.0000000e+00\n",
      " 0.0000000e+00 0.0000000e+00 0.0000000e+00 0.0000000e+00 0.0000000e+00\n",
      " 2.8556417e-04 3.3934921e-04 4.3708424e-04 0.0000000e+00 0.0000000e+00\n",
      " 0.0000000e+00 0.0000000e+00 4.1869327e-01 0.0000000e+00 0.0000000e+00\n",
      " 0.0000000e+00 2.6854509e-04 0.0000000e+00 0.0000000e+00 2.5733360e-03\n",
      " 0.0000000e+00 0.0000000e+00 0.0000000e+00 0.0000000e+00 1.0366546e-04\n",
      " 0.0000000e+00 6.8460190e-01 0.0000000e+00 0.0000000e+00 0.0000000e+00\n",
      " 0.0000000e+00 0.0000000e+00 2.1965978e-05 0.0000000e+00 0.0000000e+00\n",
      " 0.0000000e+00 0.0000000e+00 0.0000000e+00 0.0000000e+00 0.0000000e+00\n",
      " 0.0000000e+00 0.0000000e+00 0.0000000e+00 0.0000000e+00 0.0000000e+00\n",
      " 4.3431525e-03 0.0000000e+00 1.6213945e-03 2.2039659e-02 0.0000000e+00\n",
      " 1.0196216e-03 6.5338528e-03 1.8505264e-02 0.0000000e+00 0.0000000e+00\n",
      " 0.0000000e+00 1.9230024e-03 8.1991348e-06 0.0000000e+00 0.0000000e+00\n",
      " 0.0000000e+00 0.0000000e+00 0.0000000e+00 0.0000000e+00 0.0000000e+00\n",
      " 0.0000000e+00 0.0000000e+00 0.0000000e+00 0.0000000e+00 0.0000000e+00\n",
      " 0.0000000e+00 0.0000000e+00 0.0000000e+00 1.5466873e-04 0.0000000e+00\n",
      " 0.0000000e+00 2.2649157e-03 0.0000000e+00 0.0000000e+00 0.0000000e+00\n",
      " 0.0000000e+00 0.0000000e+00 5.6090491e-04 0.0000000e+00 0.0000000e+00\n",
      " 0.0000000e+00 0.0000000e+00 0.0000000e+00 0.0000000e+00 0.0000000e+00\n",
      " 0.0000000e+00 1.1472114e-04 0.0000000e+00 0.0000000e+00 0.0000000e+00\n",
      " 7.6305267e-04 0.0000000e+00 0.0000000e+00 9.2350761e-04 0.0000000e+00\n",
      " 0.0000000e+00 0.0000000e+00 0.0000000e+00]\n",
      "Mean embedding for class 18: [0.0000000e+00 0.0000000e+00 0.0000000e+00 8.9293247e-01 1.4551503e-03\n",
      " 5.9258426e-04 0.0000000e+00 0.0000000e+00 0.0000000e+00 0.0000000e+00\n",
      " 0.0000000e+00 0.0000000e+00 0.0000000e+00 0.0000000e+00 3.2514590e-04\n",
      " 0.0000000e+00 0.0000000e+00 0.0000000e+00 0.0000000e+00 0.0000000e+00\n",
      " 0.0000000e+00 3.7956156e-04 0.0000000e+00 0.0000000e+00 0.0000000e+00\n",
      " 0.0000000e+00 0.0000000e+00 9.0489760e-02 0.0000000e+00 1.1289227e-03\n",
      " 0.0000000e+00 0.0000000e+00 0.0000000e+00 2.2584846e-04 6.0413580e-04\n",
      " 0.0000000e+00 0.0000000e+00 2.2359854e-04 0.0000000e+00 3.5111040e-03\n",
      " 0.0000000e+00 0.0000000e+00 3.5078167e-03 0.0000000e+00 1.5241037e-04\n",
      " 0.0000000e+00 0.0000000e+00 0.0000000e+00 0.0000000e+00 1.7360477e-04\n",
      " 2.6939452e-01 0.0000000e+00 0.0000000e+00 0.0000000e+00 0.0000000e+00\n",
      " 1.8576013e-03 0.0000000e+00 0.0000000e+00 0.0000000e+00 1.2701473e-04\n",
      " 1.2004796e-03 0.0000000e+00 0.0000000e+00 0.0000000e+00 0.0000000e+00\n",
      " 1.2623330e-03 0.0000000e+00 0.0000000e+00 0.0000000e+00 3.5432869e-04\n",
      " 3.8015729e-04 0.0000000e+00 0.0000000e+00 0.0000000e+00 0.0000000e+00\n",
      " 0.0000000e+00 0.0000000e+00 0.0000000e+00 1.1733345e-03 0.0000000e+00\n",
      " 0.0000000e+00 0.0000000e+00 0.0000000e+00 6.4347498e-04 0.0000000e+00\n",
      " 0.0000000e+00 0.0000000e+00 0.0000000e+00 0.0000000e+00 0.0000000e+00\n",
      " 0.0000000e+00 0.0000000e+00 0.0000000e+00 3.6442001e-05 0.0000000e+00\n",
      " 0.0000000e+00 0.0000000e+00 0.0000000e+00 0.0000000e+00 0.0000000e+00\n",
      " 0.0000000e+00 0.0000000e+00 0.0000000e+00 1.7162682e-03 0.0000000e+00\n",
      " 0.0000000e+00 0.0000000e+00 3.3888888e-01 0.0000000e+00 0.0000000e+00\n",
      " 0.0000000e+00 0.0000000e+00 0.0000000e+00 0.0000000e+00 0.0000000e+00\n",
      " 0.0000000e+00 0.0000000e+00 0.0000000e+00 0.0000000e+00 0.0000000e+00\n",
      " 0.0000000e+00 0.0000000e+00 0.0000000e+00 0.0000000e+00 0.0000000e+00\n",
      " 0.0000000e+00 0.0000000e+00 0.0000000e+00]\n"
     ]
    }
   ],
   "source": [
    "import numpy as np\n",
    "\n",
    "def calculate_mean_embeddings(final_outputs, labels, num_classes=19):\n",
    "    mean_embeddings = []\n",
    "\n",
    "    for i in range(num_classes):\n",
    "        class_mask = (labels == i)\n",
    "        class_embeddings = final_outputs[class_mask]\n",
    "        \n",
    "        class_mean_embedding = np.mean(class_embeddings, axis=0)\n",
    "        mean_embeddings.append(class_mean_embedding)\n",
    "\n",
    "    return np.array(mean_embeddings)\n",
    "\n",
    "mean_embeddings = calculate_mean_embeddings(final_outputs, labels, num_classes=19)\n",
    "\n",
    "for i, mean_embedding in enumerate(mean_embeddings):\n",
    "    print(f\"Mean embedding for class {i}: {mean_embedding}\")\n"
   ]
  },
  {
   "cell_type": "code",
   "execution_count": 111,
   "metadata": {},
   "outputs": [],
   "source": [
    "import pickle\n",
    "import gzip"
   ]
  },
  {
   "cell_type": "code",
   "execution_count": 112,
   "metadata": {},
   "outputs": [
    {
     "name": "stdout",
     "output_type": "stream",
     "text": [
      "mean_embeddings has been compressed and saved to mean_embeddings.pkl.gz\n"
     ]
    }
   ],
   "source": [
    "with gzip.open('mean_embeddings_latest.pkl.gz', 'wb') as f:\n",
    "    pickle.dump(mean_embeddings, f)\n",
    "\n",
    "print(\"mean_embeddings has been compressed and saved to mean_embeddings.pkl.gz\")\n",
    "# with gzip.open('mean_embeddings.pkl.gz', 'rb') as f:\n",
    "#     mean_embeddings = pickle.load(f)\n",
    "\n",
    "# print(\"mean_embeddings has been loaded successfully.\")\n"
   ]
  },
  {
   "cell_type": "code",
   "execution_count": 83,
   "metadata": {},
   "outputs": [
    {
     "data": {
      "image/png": "[encoded data removed]",
      "text/plain": [
       "<Figure size 1000x600 with 1 Axes>"
      ]
     },
     "metadata": {},
     "output_type": "display_data"
    }
   ],
   "source": [
    "loss_values = [\n",
    "    3.5128049850463867, \n",
    "    2.5321221351623535, \n",
    "    2.2407631874084473, \n",
    "    2.062028646469116, \n",
    "    2.001171588897705, \n",
    "    1.926790475845337, \n",
    "    1.9286025762557983, \n",
    "    1.8966245651245117, \n",
    "    1.8757929801940918, \n",
    "    1.8318790197372437, \n",
    "    1.8129425048828125, \n",
    "    1.8004274368286133, \n",
    "    1.8835269212722778, \n",
    "    1.7890880107879639, \n",
    "    1.7820624113082886, \n",
    "    1.7948856353759766, \n",
    "    1.7944529056549072, \n",
    "    1.780315637588501, \n",
    "    1.7896006107330322, \n",
    "    1.8055362701416016, \n",
    "    1.8079005479812622, \n",
    "    1.7767353057861328, \n",
    "    1.8152018785476685, \n",
    "    1.7602527141571045, \n",
    "    1.8019587993621826\n",
    "]\n",
    "\n",
    "import matplotlib.pyplot as plt\n",
    "\n",
    "# Epochs corresponding to the loss values\n",
    "epochs = list(range(1, len(loss_values) + 1))\n",
    "\n",
    "# Plot the loss curve\n",
    "plt.figure(figsize=(10, 6))\n",
    "plt.plot(epochs, loss_values, marker='o', linestyle='-', color='b', label='Loss')\n",
    "\n",
    "# Title and labels\n",
    "plt.title('Loss Curve over Epochs', fontsize=14)\n",
    "plt.xlabel('Epoch', fontsize=12)\n",
    "plt.ylabel('Loss', fontsize=12)\n",
    "\n",
    "# Display the plot\n",
    "plt.grid(True)\n",
    "plt.legend()\n",
    "plt.tight_layout()\n",
    "plt.show()\n"
   ]
  },
  {
   "cell_type": "code",
   "execution_count": 118,
   "metadata": {},
   "outputs": [
    {
     "name": "stdout",
     "output_type": "stream",
     "text": [
      "(95, 128) (95,)\n",
      "[0.         0.         0.         0.         0.         0.\n",
      " 0.         0.         0.         0.         0.         0.\n",
      " 0.         0.         0.         0.         0.         0.\n",
      " 0.         0.01728784 0.03921093 0.         0.         0.\n",
      " 0.         0.         0.         0.         0.         0.\n",
      " 0.         0.         0.         0.         0.         0.\n",
      " 0.         0.56193763 0.         0.         0.         0.\n",
      " 0.         0.         0.         0.         0.         0.\n",
      " 0.         0.         0.         0.         0.         0.41570634\n",
      " 0.         0.         0.         0.         0.         0.\n",
      " 0.         0.         0.         0.         0.         0.\n",
      " 0.         0.         0.         0.         0.         0.\n",
      " 0.         0.5241102  0.         0.         0.         0.\n",
      " 0.         0.0160013  0.         0.48438674 0.         0.\n",
      " 0.         0.         0.         0.         0.         0.\n",
      " 0.         0.         0.         0.         0.         0.\n",
      " 0.         0.         0.         0.         0.         0.\n",
      " 0.         0.         0.         0.         0.         0.\n",
      " 0.         0.         0.         0.         0.         0.\n",
      " 0.         0.         0.         0.         0.         0.\n",
      " 0.         0.         0.         0.         0.         0.\n",
      " 0.         0.        ]\n",
      "Accuracy: 98.95%\n"
     ]
    }
   ],
   "source": [
    "import numpy as np\n",
    "from sklearn.metrics.pairwise import cosine_similarity\n",
    "\n",
    "def extract_test_embeddings(model, test_loader, device):\n",
    "    embeddings = []\n",
    "    labels = []\n",
    "\n",
    "    model.eval()  # Set the model to evaluation mode\n",
    "    with torch.no_grad():\n",
    "        for i, (inputs, label) in enumerate(test_loader):\n",
    "            \n",
    "            if torch.cuda.is_available():\n",
    "                inputs = inputs.cuda(non_blocking=True)\n",
    "                label = label.cuda(non_blocking=True)\n",
    "            \n",
    "            # Get model output\n",
    "            output = model(inputs)\n",
    "            \n",
    "            # Append the embeddings and labels\n",
    "            embeddings.append(output.cpu().numpy())  # Embedding for the test data\n",
    "            labels.append(label.cpu().numpy())   # Ground truth labels (if needed)\n",
    "\n",
    "    embeddings = np.concatenate(embeddings, axis=0)\n",
    "    labels = np.concatenate(labels, axis=0)\n",
    "    print(embeddings.shape, labels.shape)\n",
    "\n",
    "    return embeddings, labels\n",
    "\n",
    "def assign_class_to_test_images(test_embeddings, mean_embeddings):\n",
    "    assigned_classes = []\n",
    "\n",
    "    # For each test embedding, find the class with the highest similarity\n",
    "    for i, test_embedding in enumerate(test_embeddings):\n",
    "        if i==9:\n",
    "            print(test_embedding)\n",
    "        similarities = cosine_similarity([test_embedding], mean_embeddings)  # Cosine similarity\n",
    "        best_class = np.argmax(similarities)  # Class with the highest similarity\n",
    "        assigned_classes.append(best_class)\n",
    "\n",
    "    return np.array(assigned_classes)\n",
    "\n",
    "# Assuming you have your pretrained model and test_loader set up\n",
    "test_embeddings, test_labels = extract_test_embeddings(model, test_loader, device)\n",
    "\n",
    "# Now, use the mean embeddings that you've already calculated\n",
    "assigned_classes = assign_class_to_test_images(test_embeddings, mean_embeddings)\n",
    "\n",
    "# Calculate the accuracy\n",
    "accuracy = np.mean(assigned_classes == test_labels)  # Compare predicted classes with ground truth\n",
    "\n",
    "print(f\"Accuracy: {accuracy * 100:.2f}%\")\n"
   ]
  },
  {
   "cell_type": "code",
   "execution_count": 116,
   "metadata": {},
   "outputs": [
    {
     "data": {
      "text/plain": [
       "array([ 0,  0,  0,  0,  0,  1,  1,  1,  1,  1,  2,  2,  2,  2,  2,  3,  3,\n",
       "        3,  3,  3,  4,  4,  4,  4,  4,  5,  5,  5,  5,  5,  6,  6,  4,  6,\n",
       "        6,  7,  7,  7,  7,  7,  8,  8,  8,  8,  8,  9,  9,  9,  9,  9, 10,\n",
       "       10, 10, 10, 10, 11, 11, 11, 11, 11, 12, 12, 12, 12, 12, 13, 13, 13,\n",
       "       13, 13, 14, 14, 14, 14, 14, 15, 15, 15, 15, 15, 16, 16, 16, 16, 16,\n",
       "       17, 17, 17, 17, 17, 18, 18, 18, 18, 18])"
      ]
     },
     "execution_count": 116,
     "metadata": {},
     "output_type": "execute_result"
    }
   ],
   "source": [
    "assigned_classes"
   ]
  }
 ],
 "metadata": {
  "kernelspec": {
   "display_name": "imgcap",
   "language": "python",
   "name": "python3"
  },
  "language_info": {
   "codemirror_mode": {
    "name": "ipython",
    "version": 3
   },
   "file_extension": ".py",
   "mimetype": "text/x-python",
   "name": "python",
   "nbconvert_exporter": "python",
   "pygments_lexer": "ipython3",
   "version": "3.10.15"
  }
 },
 "nbformat": 4,
 "nbformat_minor": 2
}
